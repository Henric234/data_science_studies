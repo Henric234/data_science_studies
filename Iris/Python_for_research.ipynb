{
 "cells": [
  {
   "cell_type": "code",
   "execution_count": 1,
   "metadata": {},
   "outputs": [],
   "source": [
    "import numpy as np\n",
    "import random"
   ]
  },
  {
   "cell_type": "code",
   "execution_count": 2,
   "metadata": {},
   "outputs": [],
   "source": [
    "p1 = np.array([1,1])\n",
    "p2 = np.array([4,4])"
   ]
  },
  {
   "cell_type": "code",
   "execution_count": 3,
   "metadata": {},
   "outputs": [
    {
     "data": {
      "text/plain": [
       "4.242640687119285"
      ]
     },
     "execution_count": 3,
     "metadata": {},
     "output_type": "execute_result"
    }
   ],
   "source": [
    "np.sqrt(np.sum(np.power(p2-p1,2)))"
   ]
  },
  {
   "cell_type": "code",
   "execution_count": 4,
   "metadata": {},
   "outputs": [],
   "source": [
    "def distance(p1, p2):\n",
    "    \"\"\"Find the euclidian distance between two vectors.\"\"\"    \n",
    "    return np.sqrt(np.sum(np.power(p2-p1,2)))\n"
   ]
  },
  {
   "cell_type": "code",
   "execution_count": 5,
   "metadata": {},
   "outputs": [
    {
     "data": {
      "text/plain": [
       "4.242640687119285"
      ]
     },
     "execution_count": 5,
     "metadata": {},
     "output_type": "execute_result"
    }
   ],
   "source": [
    "distance(p1,p2)"
   ]
  },
  {
   "cell_type": "code",
   "execution_count": 6,
   "metadata": {},
   "outputs": [],
   "source": [
    "def majority_vote(votes):\n",
    "    \"\"\"Count the votes in an array\"\"\"\n",
    "    vote_counts = {}\n",
    "    for vote in votes:\n",
    "        if vote in vote_counts:\n",
    "            vote_counts[vote] += 1\n",
    "        else:\n",
    "            vote_counts[vote] = 1\n",
    "    return vote_counts\n"
   ]
  },
  {
   "cell_type": "code",
   "execution_count": 7,
   "metadata": {},
   "outputs": [
    {
     "data": {
      "text/plain": [
       "{1: 2, 2: 2, 3: 6}"
      ]
     },
     "execution_count": 7,
     "metadata": {},
     "output_type": "execute_result"
    }
   ],
   "source": [
    "votes = [1,2,3,1,2,3,3,3,3,3]\n",
    "vote_counts = majority_vote(votes)\n",
    "vote_counts"
   ]
  },
  {
   "cell_type": "code",
   "execution_count": 8,
   "metadata": {},
   "outputs": [
    {
     "data": {
      "text/plain": [
       "6"
      ]
     },
     "execution_count": 8,
     "metadata": {},
     "output_type": "execute_result"
    }
   ],
   "source": [
    "max_count = max(vote_counts.values())\n",
    "max_count"
   ]
  },
  {
   "cell_type": "code",
   "execution_count": 9,
   "metadata": {},
   "outputs": [
    {
     "data": {
      "text/plain": [
       "[3]"
      ]
     },
     "execution_count": 9,
     "metadata": {},
     "output_type": "execute_result"
    }
   ],
   "source": [
    "winners = []\n",
    "for vote, count in vote_counts.items():\n",
    "    if count == max_count:\n",
    "        winners.append(vote)\n",
    "winners"
   ]
  },
  {
   "cell_type": "code",
   "execution_count": 10,
   "metadata": {},
   "outputs": [],
   "source": [
    "def majority_vote(votes):\n",
    "    \"\"\"return the most commom element in votes\"\"\"\n",
    "    vote_counts = {}\n",
    "    for vote in votes:\n",
    "        if vote in vote_counts:\n",
    "            vote_counts[vote] += 1\n",
    "        else:\n",
    "            vote_counts[vote] = 1\n",
    "            \n",
    "    winners = []\n",
    "    max_count = max(vote_counts.values())\n",
    "    for vote, count in vote_counts.items():\n",
    "        if count == max_count:\n",
    "            winners.append(vote)\n",
    "            \n",
    "    return random.choice(winners)\n"
   ]
  },
  {
   "cell_type": "code",
   "execution_count": 11,
   "metadata": {},
   "outputs": [
    {
     "data": {
      "text/plain": [
       "3"
      ]
     },
     "execution_count": 11,
     "metadata": {},
     "output_type": "execute_result"
    }
   ],
   "source": [
    "votes = [3,3,3,2,2,2]\n",
    "winner = majority_vote(votes)\n",
    "winner"
   ]
  },
  {
   "cell_type": "code",
   "execution_count": 12,
   "metadata": {},
   "outputs": [],
   "source": [
    "import scipy.stats as ss"
   ]
  },
  {
   "cell_type": "code",
   "execution_count": 13,
   "metadata": {},
   "outputs": [],
   "source": [
    "def majority_vote_short(votes):\n",
    "    \"\"\"return the most commom element in votes\"\"\"\n",
    "    mode, count = ss.mstats.mode(votes)\n",
    "            \n",
    "    return mode\n"
   ]
  },
  {
   "cell_type": "code",
   "execution_count": 14,
   "metadata": {},
   "outputs": [
    {
     "data": {
      "text/plain": [
       "array([2.])"
      ]
     },
     "execution_count": 14,
     "metadata": {},
     "output_type": "execute_result"
    }
   ],
   "source": [
    "votes = [3,3,3,2,2,2]\n",
    "winner = majority_vote_short(votes)\n",
    "winner"
   ]
  },
  {
   "cell_type": "code",
   "execution_count": 15,
   "metadata": {},
   "outputs": [],
   "source": [
    "points = np.array([[1,1],[1,2],[1,3],[2,1],[2,2],[2,3],[3,1],[3,2],[3,3]])\n",
    "p = np.array([2.5,2])"
   ]
  },
  {
   "cell_type": "code",
   "execution_count": 16,
   "metadata": {},
   "outputs": [],
   "source": [
    "import matplotlib.pyplot as plt"
   ]
  },
  {
   "cell_type": "code",
   "execution_count": 17,
   "metadata": {},
   "outputs": [
    {
     "data": {
      "text/plain": [
       "(0.5, 3.5, 0.5, 3.5)"
      ]
     },
     "execution_count": 17,
     "metadata": {},
     "output_type": "execute_result"
    },
    {
     "data": {
      "image/png": "[encoded data removed]",
      "text/plain": [
       "<Figure size 640x480 with 1 Axes>"
      ]
     },
     "metadata": {},
     "output_type": "display_data"
    }
   ],
   "source": [
    "plt.plot(points[:,0], points[:,1], \"ro\")\n",
    "plt.plot(p[0],p[1], \"bo\")\n",
    "plt.axis([0.5,3.5,0.5,3.5])"
   ]
  },
  {
   "cell_type": "code",
   "execution_count": 18,
   "metadata": {},
   "outputs": [
    {
     "data": {
      "text/plain": [
       "array([1.80277564, 1.5       , 1.80277564, 1.11803399, 0.5       ,\n",
       "       1.11803399, 1.11803399, 0.5       , 1.11803399])"
      ]
     },
     "execution_count": 18,
     "metadata": {},
     "output_type": "execute_result"
    }
   ],
   "source": [
    "distances = np.zeros(points.shape[0])\n",
    "for i in range(len(distances)):\n",
    "    distances[i] = distance(p,points[i])\n",
    "    \n",
    "distances"
   ]
  },
  {
   "cell_type": "code",
   "execution_count": 19,
   "metadata": {},
   "outputs": [
    {
     "data": {
      "text/plain": [
       "array([4, 7, 3, 5, 6, 8, 1, 0, 2])"
      ]
     },
     "execution_count": 19,
     "metadata": {},
     "output_type": "execute_result"
    }
   ],
   "source": [
    "ind = np.argsort(distances)\n",
    "ind"
   ]
  },
  {
   "cell_type": "code",
   "execution_count": 20,
   "metadata": {},
   "outputs": [
    {
     "data": {
      "text/plain": [
       "array([0.5, 0.5])"
      ]
     },
     "execution_count": 20,
     "metadata": {},
     "output_type": "execute_result"
    }
   ],
   "source": [
    "distances[ind[0:2]]"
   ]
  },
  {
   "cell_type": "code",
   "execution_count": 21,
   "metadata": {},
   "outputs": [],
   "source": [
    "def find_nearest_neighbors(p, points, k = 5):\n",
    "    \"\"\"Find the K nearest neighbors of point p and return theirs indices.\"\"\"\n",
    "    distances = np.zeros(points.shape[0])\n",
    "    for i in range(len(distances)):\n",
    "        distances[i] = distance(p,points[i])\n",
    "    ind = np.argsort(distances)\n",
    "    return ind[:k]"
   ]
  },
  {
   "cell_type": "code",
   "execution_count": 22,
   "metadata": {},
   "outputs": [
    {
     "data": {
      "text/plain": [
       "array([[2, 2],\n",
       "       [3, 2],\n",
       "       [2, 1]])"
      ]
     },
     "execution_count": 22,
     "metadata": {},
     "output_type": "execute_result"
    }
   ],
   "source": [
    "ind = find_nearest_neighbors(p, points, 3)\n",
    "points[ind]"
   ]
  },
  {
   "cell_type": "code",
   "execution_count": 23,
   "metadata": {},
   "outputs": [],
   "source": [
    "def knn_predict(p, points, outcomes,  k = 5):\n",
    "    ind = find_nearest_neighbors(p, points,k)\n",
    "    return majority_vote(outcomes[ind])"
   ]
  },
  {
   "cell_type": "code",
   "execution_count": 24,
   "metadata": {},
   "outputs": [],
   "source": [
    "outcomes = np.array([0,0,0,0,1,1,1,1,1])"
   ]
  },
  {
   "cell_type": "code",
   "execution_count": 25,
   "metadata": {},
   "outputs": [
    {
     "data": {
      "text/plain": [
       "1"
      ]
     },
     "execution_count": 25,
     "metadata": {},
     "output_type": "execute_result"
    }
   ],
   "source": [
    "knn_predict(np.array([2.5, 2.7]), points, outcomes, k=2)"
   ]
  },
  {
   "cell_type": "code",
   "execution_count": 26,
   "metadata": {},
   "outputs": [
    {
     "data": {
      "text/plain": [
       "0"
      ]
     },
     "execution_count": 26,
     "metadata": {},
     "output_type": "execute_result"
    }
   ],
   "source": [
    "knn_predict(np.array([1, 2.7]), points, outcomes, k=2)"
   ]
  },
  {
   "cell_type": "code",
   "execution_count": 27,
   "metadata": {},
   "outputs": [],
   "source": [
    "n = 5\n",
    "np.concatenate((ss.norm(0,1).rvs((n,2)),ss.norm(1,1).rvs((n,2))), axis = 0)\n",
    "outcomes = np.concatenate((np.repeat(0, n), np.repeat(1,n)) )\n"
   ]
  },
  {
   "cell_type": "code",
   "execution_count": 28,
   "metadata": {},
   "outputs": [],
   "source": [
    "def generate_synth_data(n = 50):\n",
    "    \"\"\"Create two sets of points from bivariate normal distributions.\"\"\"\n",
    "    points = np.concatenate((ss.norm(0,1).rvs((n,2)),ss.norm(1,1).rvs((n,2))), axis = 0)\n",
    "    outcomes = np.concatenate((np.repeat(0, n), np.repeat(1,n)) )\n",
    "    return (points, outcomes)"
   ]
  },
  {
   "cell_type": "code",
   "execution_count": 29,
   "metadata": {},
   "outputs": [],
   "source": [
    "n = 20\n",
    "(points, outcomes) = generate_synth_data(n)"
   ]
  },
  {
   "cell_type": "code",
   "execution_count": 30,
   "metadata": {},
   "outputs": [
    {
     "data": {
      "image/png": "[encoded data removed]",
      "text/plain": [
       "<Figure size 640x480 with 1 Axes>"
      ]
     },
     "metadata": {},
     "output_type": "display_data"
    }
   ],
   "source": [
    "n = 20\n",
    "plt.figure()\n",
    "plt.plot(points[:n, 0], points[:n,1], \"ro\")\n",
    "plt.plot(points[n:,0], points[:n, 1], \"bo\")\n",
    "plt.savefig(\"bivariatedata.pdf\")"
   ]
  },
  {
   "cell_type": "code",
   "execution_count": 31,
   "metadata": {},
   "outputs": [],
   "source": [
    "def make_prediction_grid(predictors, outcomes, limits, h, k):\n",
    "    \"\"\"Classify each point on the predition grid\"\"\"\n",
    "    (x_min,x_max,y_min,y_max) = limits\n",
    "    xs = np.arange(x_min, x_max,h)\n",
    "    ys = np.arange(y_min, y_max,h)\n",
    "    xx, yy = np.meshgrid(xs,ys)\n",
    "    \n",
    "    prediction_grid = np.zeros(xx.shape, dtype = int)\n",
    "    for i,x in enumerate(xs):\n",
    "        for j,y in enumerate(ys):\n",
    "            p = np.array([x,y])\n",
    "            prediction_grid[j,i] = knn_predict(p, predictors, outcomes, k)\n",
    "    return (xx, yy, prediction_grid)"
   ]
  },
  {
   "cell_type": "code",
   "execution_count": 32,
   "metadata": {},
   "outputs": [
    {
     "data": {
      "text/plain": [
       "[(0, 'spring'), (1, 'summer'), (2, 'fall'), (3, 'winter')]"
      ]
     },
     "execution_count": 32,
     "metadata": {},
     "output_type": "execute_result"
    }
   ],
   "source": [
    "seasons = [\"spring\", \"summer\", \"fall\", \"winter\"]\n",
    "list(enumerate(seasons))"
   ]
  },
  {
   "cell_type": "code",
   "execution_count": 33,
   "metadata": {},
   "outputs": [
    {
     "name": "stdout",
     "output_type": "stream",
     "text": [
      "0 spring\n",
      "1 summer\n",
      "2 fall\n",
      "3 winter\n"
     ]
    }
   ],
   "source": [
    "for ind, season in enumerate(seasons):\n",
    "    print(ind, season)"
   ]
  },
  {
   "cell_type": "code",
   "execution_count": 34,
   "metadata": {},
   "outputs": [],
   "source": [
    "def plot_prediction_grid (xx, yy, prediction_grid, filename):\n",
    "    \"\"\" Plot KNN predictions for every point on the grid.\"\"\"\n",
    "    from matplotlib.colors import ListedColormap\n",
    "    background_colormap = ListedColormap ([\"hotpink\",\"lightskyblue\", \"yellowgreen\"])\n",
    "    observation_colormap = ListedColormap ([\"red\",\"blue\",\"green\"])\n",
    "    plt.figure(figsize =(10,10))\n",
    "    plt.pcolormesh(xx, yy, prediction_grid, cmap = background_colormap, alpha = 0.5)\n",
    "    plt.scatter(predictors[:,0], predictors [:,1], c = outcomes, cmap = observation_colormap, s = 50)\n",
    "    plt.xlabel('Variable 1'); plt.ylabel('Variable 2')\n",
    "    plt.xticks(()); plt.yticks(())\n",
    "    plt.xlim (np.min(xx), np.max(xx))\n",
    "    plt.ylim (np.min(yy), np.max(yy))\n",
    "    plt.savefig(filename)"
   ]
  },
  {
   "cell_type": "code",
   "execution_count": 35,
   "metadata": {},
   "outputs": [],
   "source": [
    "(predictors, outcomes) = generate_synth_data()"
   ]
  },
  {
   "cell_type": "code",
   "execution_count": 36,
   "metadata": {},
   "outputs": [
    {
     "data": {
      "text/plain": [
       "array([[-0.29629639, -2.95080523],\n",
       "       [ 0.11032983,  0.13931661],\n",
       "       [-1.81468509, -0.65597011],\n",
       "       [ 0.12622235,  0.90647098],\n",
       "       [ 1.18744975, -0.8139974 ],\n",
       "       [ 1.92722394,  0.38332217],\n",
       "       [-0.43317356,  0.48969178],\n",
       "       [-0.10200797,  1.03918711],\n",
       "       [ 0.33678774, -3.54380209],\n",
       "       [ 0.02039874,  1.13849628],\n",
       "       [ 0.17712568,  0.35919825],\n",
       "       [-0.45904349,  0.93951463],\n",
       "       [ 0.7267769 ,  0.96603174],\n",
       "       [ 1.55857284,  1.02763841],\n",
       "       [ 1.08280663, -1.17381036],\n",
       "       [-0.63779076, -0.20155616],\n",
       "       [-0.23958819,  0.19318854],\n",
       "       [-0.58803981,  0.61227834],\n",
       "       [ 0.43279939, -1.62597326],\n",
       "       [ 0.50960082,  0.42852206],\n",
       "       [ 1.99822125, -0.32041588],\n",
       "       [ 0.8087905 , -0.01951742],\n",
       "       [-1.03224704,  0.16770397],\n",
       "       [ 0.01119424,  0.93559204],\n",
       "       [ 0.82110366,  1.29284234],\n",
       "       [ 1.46875647,  1.72092237],\n",
       "       [-0.70346937, -0.08703336],\n",
       "       [-1.1537019 ,  0.19105391],\n",
       "       [-0.46947607,  0.01278867],\n",
       "       [ 1.28074023, -0.85223568],\n",
       "       [-0.63624454, -0.86228559],\n",
       "       [-1.39098325,  0.77696318],\n",
       "       [-0.77630335, -0.37948628],\n",
       "       [-0.34614986,  1.59791028],\n",
       "       [-0.38021194,  0.14071574],\n",
       "       [-0.05890247, -1.78242566],\n",
       "       [ 0.39417485, -1.55001734],\n",
       "       [-0.84507492, -1.05861017],\n",
       "       [-1.58810654, -0.67230629],\n",
       "       [ 0.69059401, -0.7834698 ],\n",
       "       [ 0.18168856,  0.17799868],\n",
       "       [ 0.02983601,  1.14686067],\n",
       "       [-0.66747019,  0.81402824],\n",
       "       [-0.08656081,  0.85262492],\n",
       "       [-1.16258159,  0.31670849],\n",
       "       [ 0.1348256 , -0.50214745],\n",
       "       [ 1.22461608,  1.99370893],\n",
       "       [ 0.98321857,  1.21833152],\n",
       "       [-0.56304017, -0.35973351],\n",
       "       [-0.10454498,  0.21487804],\n",
       "       [ 0.78572607,  1.03979357],\n",
       "       [ 2.15657485,  1.11019395],\n",
       "       [ 1.39506072,  2.33217807],\n",
       "       [ 0.45527319,  0.65738135],\n",
       "       [ 0.12545582,  0.0709591 ],\n",
       "       [ 1.21663976,  1.07756277],\n",
       "       [ 1.38176062, -0.15830074],\n",
       "       [ 1.82171688,  2.13874913],\n",
       "       [-0.70157239,  1.00856884],\n",
       "       [ 0.04033234,  2.59255148],\n",
       "       [ 1.35737719,  1.31375121],\n",
       "       [ 1.3576726 ,  1.68899076],\n",
       "       [ 2.73296919,  1.3888516 ],\n",
       "       [ 1.37344282,  1.17821591],\n",
       "       [-0.36918875,  1.00310815],\n",
       "       [ 2.38353359,  2.42377573],\n",
       "       [ 3.25118657, -0.2829876 ],\n",
       "       [ 0.55972515, -1.43305404],\n",
       "       [ 1.17839187,  3.19964377],\n",
       "       [ 1.34601552,  1.05686701],\n",
       "       [ 0.69218872,  2.4256859 ],\n",
       "       [-1.30051171,  0.96348909],\n",
       "       [ 1.5297233 ,  0.80467745],\n",
       "       [-0.10113448,  0.62784174],\n",
       "       [-1.16345731,  1.5749812 ],\n",
       "       [ 1.79892551,  0.37181577],\n",
       "       [ 0.36002593, -0.64363716],\n",
       "       [ 1.10047816,  0.29522444],\n",
       "       [ 2.33754999,  1.27342481],\n",
       "       [ 0.41364806,  0.97058619],\n",
       "       [ 0.52284952,  3.2674069 ],\n",
       "       [-0.10663532,  1.0709713 ],\n",
       "       [ 2.16220291,  0.33066718],\n",
       "       [ 1.37415792,  0.05306966],\n",
       "       [-0.9219651 ,  1.67284599],\n",
       "       [-0.06251532, -1.67506141],\n",
       "       [ 0.94278728,  2.24868562],\n",
       "       [ 0.1083882 , -0.22704248],\n",
       "       [ 0.56092153,  0.37640143],\n",
       "       [ 2.79308086,  0.4402012 ],\n",
       "       [ 1.41565455,  1.72392168],\n",
       "       [ 0.59700533,  0.98357195],\n",
       "       [ 1.54136814, -0.44211779],\n",
       "       [ 0.87391931, -0.28533828],\n",
       "       [-1.15919136, -1.04952011],\n",
       "       [ 1.12812705,  0.63546111],\n",
       "       [ 0.06507939, -0.67139285],\n",
       "       [-0.86401796,  0.02037696],\n",
       "       [ 1.20219952,  2.08540671],\n",
       "       [ 0.8430281 ,  0.54042039]])"
      ]
     },
     "execution_count": 36,
     "metadata": {},
     "output_type": "execute_result"
    }
   ],
   "source": [
    "predictors"
   ]
  },
  {
   "cell_type": "code",
   "execution_count": 188,
   "metadata": {},
   "outputs": [],
   "source": [
    "k = 5\n",
    "filename = \"knn_synth5.pdf\"\n",
    "limits = (-3,4,-3,4)\n",
    "h = 0.1\n"
   ]
  },
  {
   "cell_type": "code",
   "execution_count": 189,
   "metadata": {},
   "outputs": [
    {
     "data": {
      "image/png": "[encoded data removed]",
      "text/plain": [
       "<Figure size 720x720 with 1 Axes>"
      ]
     },
     "metadata": {},
     "output_type": "display_data"
    }
   ],
   "source": [
    "(xx,yy,prediction_grid) = make_prediction_grid(predictors, outcomes, limits, h ,k)\n",
    "plot_prediction_grid(xx,yy,prediction_grid, filename)"
   ]
  },
  {
   "cell_type": "code",
   "execution_count": 190,
   "metadata": {},
   "outputs": [
    {
     "data": {
      "image/png": "[encoded data removed]",
      "text/plain": [
       "<Figure size 720x720 with 1 Axes>"
      ]
     },
     "metadata": {},
     "output_type": "display_data"
    }
   ],
   "source": [
    "k = 50\n",
    "filename = \"knn_synth50.pdf\"\n",
    "limits = (-3,4,-3,4)\n",
    "h = 0.1\n",
    "(xx,yy,prediction_grid) = make_prediction_grid(predictors, outcomes, limits, h ,k)\n",
    "plot_prediction_grid(xx,yy,prediction_grid, filename)"
   ]
  },
  {
   "cell_type": "code",
   "execution_count": 194,
   "metadata": {},
   "outputs": [],
   "source": [
    "from sklearn import datasets\n",
    "iris = datasets.load_iris()\n",
    "predictors = iris.data[:,0:2]\n",
    "outcomes = iris.target"
   ]
  },
  {
   "cell_type": "code",
   "execution_count": 195,
   "metadata": {},
   "outputs": [
    {
     "data": {
      "image/png": "[encoded data removed]",
      "text/plain": [
       "<Figure size 432x288 with 1 Axes>"
      ]
     },
     "metadata": {
      "needs_background": "light"
     },
     "output_type": "display_data"
    }
   ],
   "source": [
    "plt.plot(predictors[outcomes == 0][:,0],predictors[outcomes == 0][:,1], \"ro\")\n",
    "plt.plot(predictors[outcomes == 1][:,0],predictors[outcomes == 1][:,1], \"go\")\n",
    "plt.plot(predictors[outcomes == 2][:,0],predictors[outcomes == 2][:,1], \"bo\")\n",
    "plt.savefig(\"iris.pdf\")"
   ]
  },
  {
   "cell_type": "code",
   "execution_count": 196,
   "metadata": {},
   "outputs": [
    {
     "data": {
      "image/png": "[encoded data removed]",
      "text/plain": [
       "<Figure size 720x720 with 1 Axes>"
      ]
     },
     "metadata": {},
     "output_type": "display_data"
    }
   ],
   "source": [
    "k = 5\n",
    "filename = \"iris_grid.pdf\"\n",
    "limits = (4,8,1.5,4.5)\n",
    "h = 0.1\n",
    "(xx,yy,prediction_grid) = make_prediction_grid(predictors, outcomes, limits, h ,k)\n",
    "plot_prediction_grid(xx,yy,prediction_grid, filename)"
   ]
  },
  {
   "cell_type": "code",
   "execution_count": 197,
   "metadata": {},
   "outputs": [],
   "source": [
    "from sklearn.neighbors import KNeighborsClassifier\n",
    "knn = KNeighborsClassifier(n_neighbors=5)\n",
    "knn.fit(predictors, outcomes)\n",
    "sk_predictions = knn.predict(predictors)"
   ]
  },
  {
   "cell_type": "code",
   "execution_count": 198,
   "metadata": {},
   "outputs": [],
   "source": [
    "my_predictions = np.array([knn_predict(p, predictors, outcomes, 5) for p in predictors])"
   ]
  },
  {
   "cell_type": "code",
   "execution_count": 199,
   "metadata": {},
   "outputs": [
    {
     "data": {
      "text/plain": [
       "(150,)"
      ]
     },
     "execution_count": 199,
     "metadata": {},
     "output_type": "execute_result"
    }
   ],
   "source": [
    "my_predictions.shape"
   ]
  },
  {
   "cell_type": "code",
   "execution_count": 202,
   "metadata": {},
   "outputs": [
    {
     "data": {
      "text/plain": [
       "96.0"
      ]
     },
     "execution_count": 202,
     "metadata": {},
     "output_type": "execute_result"
    }
   ],
   "source": [
    "100*np.mean(sk_predictions == my_predictions)"
   ]
  },
  {
   "cell_type": "code",
   "execution_count": 203,
   "metadata": {},
   "outputs": [
    {
     "data": {
      "text/plain": [
       "83.33333333333334"
      ]
     },
     "execution_count": 203,
     "metadata": {},
     "output_type": "execute_result"
    }
   ],
   "source": [
    "100*np.mean(sk_predictions == outcomes)"
   ]
  },
  {
   "cell_type": "code",
   "execution_count": 204,
   "metadata": {},
   "outputs": [
    {
     "data": {
      "text/plain": [
       "84.66666666666667"
      ]
     },
     "execution_count": 204,
     "metadata": {},
     "output_type": "execute_result"
    }
   ],
   "source": [
    "100*np.mean(my_predictions == outcomes)"
   ]
  },
  {
   "cell_type": "code",
   "execution_count": 2,
   "metadata": {},
   "outputs": [],
   "source": [
    "from sklearn import datasets"
   ]
  },
  {
   "cell_type": "code",
   "execution_count": 8,
   "metadata": {},
   "outputs": [],
   "source": [
    "?datasets"
   ]
  },
  {
   "cell_type": "code",
   "execution_count": null,
   "metadata": {},
   "outputs": [],
   "source": []
  }
 ],
 "metadata": {
  "kernelspec": {
   "display_name": "Python 3 (ipykernel)",
   "language": "python",
   "name": "python3"
  },
  "language_info": {
   "codemirror_mode": {
    "name": "ipython",
    "version": 3
   },
   "file_extension": ".py",
   "mimetype": "text/x-python",
   "name": "python",
   "nbconvert_exporter": "python",
   "pygments_lexer": "ipython3",
   "version": "3.10.8"
  }
 },
 "nbformat": 4,
 "nbformat_minor": 4
}
