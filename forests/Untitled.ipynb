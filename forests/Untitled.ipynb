{
 "cells": [
  {
   "cell_type": "code",
   "execution_count": 106,
   "id": "82163330",
   "metadata": {
    "tags": []
   },
   "outputs": [],
   "source": [
    "import pandas as pd\n",
    "import matplotlib.pyplot as plt"
   ]
  },
  {
   "cell_type": "code",
   "execution_count": 4,
   "id": "38bf0bef",
   "metadata": {
    "tags": []
   },
   "outputs": [
    {
     "data": {
      "text/html": [
       "<div>\n",
       "<style scoped>\n",
       "    .dataframe tbody tr th:only-of-type {\n",
       "        vertical-align: middle;\n",
       "    }\n",
       "\n",
       "    .dataframe tbody tr th {\n",
       "        vertical-align: top;\n",
       "    }\n",
       "\n",
       "    .dataframe thead th {\n",
       "        text-align: right;\n",
       "    }\n",
       "</style>\n",
       "<table border=\"1\" class=\"dataframe\">\n",
       "  <thead>\n",
       "    <tr style=\"text-align: right;\">\n",
       "      <th></th>\n",
       "      <th>X</th>\n",
       "      <th>Y</th>\n",
       "      <th>month</th>\n",
       "      <th>day</th>\n",
       "      <th>FFMC</th>\n",
       "      <th>DMC</th>\n",
       "      <th>DC</th>\n",
       "      <th>ISI</th>\n",
       "      <th>temp</th>\n",
       "      <th>RH</th>\n",
       "      <th>wind</th>\n",
       "      <th>rain</th>\n",
       "      <th>area</th>\n",
       "    </tr>\n",
       "  </thead>\n",
       "  <tbody>\n",
       "    <tr>\n",
       "      <th>0</th>\n",
       "      <td>7</td>\n",
       "      <td>5</td>\n",
       "      <td>mar</td>\n",
       "      <td>fri</td>\n",
       "      <td>86.2</td>\n",
       "      <td>26.2</td>\n",
       "      <td>94.3</td>\n",
       "      <td>5.1</td>\n",
       "      <td>8.2</td>\n",
       "      <td>51</td>\n",
       "      <td>6.7</td>\n",
       "      <td>0.0</td>\n",
       "      <td>0.00</td>\n",
       "    </tr>\n",
       "    <tr>\n",
       "      <th>1</th>\n",
       "      <td>7</td>\n",
       "      <td>4</td>\n",
       "      <td>oct</td>\n",
       "      <td>tue</td>\n",
       "      <td>90.6</td>\n",
       "      <td>35.4</td>\n",
       "      <td>669.1</td>\n",
       "      <td>6.7</td>\n",
       "      <td>18.0</td>\n",
       "      <td>33</td>\n",
       "      <td>0.9</td>\n",
       "      <td>0.0</td>\n",
       "      <td>0.00</td>\n",
       "    </tr>\n",
       "    <tr>\n",
       "      <th>2</th>\n",
       "      <td>7</td>\n",
       "      <td>4</td>\n",
       "      <td>oct</td>\n",
       "      <td>sat</td>\n",
       "      <td>90.6</td>\n",
       "      <td>43.7</td>\n",
       "      <td>686.9</td>\n",
       "      <td>6.7</td>\n",
       "      <td>14.6</td>\n",
       "      <td>33</td>\n",
       "      <td>1.3</td>\n",
       "      <td>0.0</td>\n",
       "      <td>0.00</td>\n",
       "    </tr>\n",
       "    <tr>\n",
       "      <th>3</th>\n",
       "      <td>8</td>\n",
       "      <td>6</td>\n",
       "      <td>mar</td>\n",
       "      <td>fri</td>\n",
       "      <td>91.7</td>\n",
       "      <td>33.3</td>\n",
       "      <td>77.5</td>\n",
       "      <td>9.0</td>\n",
       "      <td>8.3</td>\n",
       "      <td>97</td>\n",
       "      <td>4.0</td>\n",
       "      <td>0.2</td>\n",
       "      <td>0.00</td>\n",
       "    </tr>\n",
       "    <tr>\n",
       "      <th>4</th>\n",
       "      <td>8</td>\n",
       "      <td>6</td>\n",
       "      <td>mar</td>\n",
       "      <td>sun</td>\n",
       "      <td>89.3</td>\n",
       "      <td>51.3</td>\n",
       "      <td>102.2</td>\n",
       "      <td>9.6</td>\n",
       "      <td>11.4</td>\n",
       "      <td>99</td>\n",
       "      <td>1.8</td>\n",
       "      <td>0.0</td>\n",
       "      <td>0.00</td>\n",
       "    </tr>\n",
       "    <tr>\n",
       "      <th>...</th>\n",
       "      <td>...</td>\n",
       "      <td>...</td>\n",
       "      <td>...</td>\n",
       "      <td>...</td>\n",
       "      <td>...</td>\n",
       "      <td>...</td>\n",
       "      <td>...</td>\n",
       "      <td>...</td>\n",
       "      <td>...</td>\n",
       "      <td>...</td>\n",
       "      <td>...</td>\n",
       "      <td>...</td>\n",
       "      <td>...</td>\n",
       "    </tr>\n",
       "    <tr>\n",
       "      <th>512</th>\n",
       "      <td>4</td>\n",
       "      <td>3</td>\n",
       "      <td>aug</td>\n",
       "      <td>sun</td>\n",
       "      <td>81.6</td>\n",
       "      <td>56.7</td>\n",
       "      <td>665.6</td>\n",
       "      <td>1.9</td>\n",
       "      <td>27.8</td>\n",
       "      <td>32</td>\n",
       "      <td>2.7</td>\n",
       "      <td>0.0</td>\n",
       "      <td>6.44</td>\n",
       "    </tr>\n",
       "    <tr>\n",
       "      <th>513</th>\n",
       "      <td>2</td>\n",
       "      <td>4</td>\n",
       "      <td>aug</td>\n",
       "      <td>sun</td>\n",
       "      <td>81.6</td>\n",
       "      <td>56.7</td>\n",
       "      <td>665.6</td>\n",
       "      <td>1.9</td>\n",
       "      <td>21.9</td>\n",
       "      <td>71</td>\n",
       "      <td>5.8</td>\n",
       "      <td>0.0</td>\n",
       "      <td>54.29</td>\n",
       "    </tr>\n",
       "    <tr>\n",
       "      <th>514</th>\n",
       "      <td>7</td>\n",
       "      <td>4</td>\n",
       "      <td>aug</td>\n",
       "      <td>sun</td>\n",
       "      <td>81.6</td>\n",
       "      <td>56.7</td>\n",
       "      <td>665.6</td>\n",
       "      <td>1.9</td>\n",
       "      <td>21.2</td>\n",
       "      <td>70</td>\n",
       "      <td>6.7</td>\n",
       "      <td>0.0</td>\n",
       "      <td>11.16</td>\n",
       "    </tr>\n",
       "    <tr>\n",
       "      <th>515</th>\n",
       "      <td>1</td>\n",
       "      <td>4</td>\n",
       "      <td>aug</td>\n",
       "      <td>sat</td>\n",
       "      <td>94.4</td>\n",
       "      <td>146.0</td>\n",
       "      <td>614.7</td>\n",
       "      <td>11.3</td>\n",
       "      <td>25.6</td>\n",
       "      <td>42</td>\n",
       "      <td>4.0</td>\n",
       "      <td>0.0</td>\n",
       "      <td>0.00</td>\n",
       "    </tr>\n",
       "    <tr>\n",
       "      <th>516</th>\n",
       "      <td>6</td>\n",
       "      <td>3</td>\n",
       "      <td>nov</td>\n",
       "      <td>tue</td>\n",
       "      <td>79.5</td>\n",
       "      <td>3.0</td>\n",
       "      <td>106.7</td>\n",
       "      <td>1.1</td>\n",
       "      <td>11.8</td>\n",
       "      <td>31</td>\n",
       "      <td>4.5</td>\n",
       "      <td>0.0</td>\n",
       "      <td>0.00</td>\n",
       "    </tr>\n",
       "  </tbody>\n",
       "</table>\n",
       "<p>517 rows × 13 columns</p>\n",
       "</div>"
      ],
      "text/plain": [
       "     X  Y month  day  FFMC    DMC     DC   ISI  temp  RH  wind  rain   area\n",
       "0    7  5   mar  fri  86.2   26.2   94.3   5.1   8.2  51   6.7   0.0   0.00\n",
       "1    7  4   oct  tue  90.6   35.4  669.1   6.7  18.0  33   0.9   0.0   0.00\n",
       "2    7  4   oct  sat  90.6   43.7  686.9   6.7  14.6  33   1.3   0.0   0.00\n",
       "3    8  6   mar  fri  91.7   33.3   77.5   9.0   8.3  97   4.0   0.2   0.00\n",
       "4    8  6   mar  sun  89.3   51.3  102.2   9.6  11.4  99   1.8   0.0   0.00\n",
       "..  .. ..   ...  ...   ...    ...    ...   ...   ...  ..   ...   ...    ...\n",
       "512  4  3   aug  sun  81.6   56.7  665.6   1.9  27.8  32   2.7   0.0   6.44\n",
       "513  2  4   aug  sun  81.6   56.7  665.6   1.9  21.9  71   5.8   0.0  54.29\n",
       "514  7  4   aug  sun  81.6   56.7  665.6   1.9  21.2  70   6.7   0.0  11.16\n",
       "515  1  4   aug  sat  94.4  146.0  614.7  11.3  25.6  42   4.0   0.0   0.00\n",
       "516  6  3   nov  tue  79.5    3.0  106.7   1.1  11.8  31   4.5   0.0   0.00\n",
       "\n",
       "[517 rows x 13 columns]"
      ]
     },
     "execution_count": 4,
     "metadata": {},
     "output_type": "execute_result"
    }
   ],
   "source": [
    "df = pd.read_csv(\"forestfires.csv\")\n",
    "df"
   ]
  },
  {
   "cell_type": "code",
   "execution_count": 6,
   "id": "bba8afe5",
   "metadata": {
    "tags": []
   },
   "outputs": [
    {
     "data": {
      "text/html": [
       "<div>\n",
       "<style scoped>\n",
       "    .dataframe tbody tr th:only-of-type {\n",
       "        vertical-align: middle;\n",
       "    }\n",
       "\n",
       "    .dataframe tbody tr th {\n",
       "        vertical-align: top;\n",
       "    }\n",
       "\n",
       "    .dataframe thead th {\n",
       "        text-align: right;\n",
       "    }\n",
       "</style>\n",
       "<table border=\"1\" class=\"dataframe\">\n",
       "  <thead>\n",
       "    <tr style=\"text-align: right;\">\n",
       "      <th></th>\n",
       "      <th>X</th>\n",
       "      <th>Y</th>\n",
       "      <th>month</th>\n",
       "      <th>day</th>\n",
       "      <th>FFMC</th>\n",
       "      <th>DMC</th>\n",
       "      <th>DC</th>\n",
       "      <th>ISI</th>\n",
       "      <th>temp</th>\n",
       "      <th>RH</th>\n",
       "      <th>wind</th>\n",
       "      <th>rain</th>\n",
       "      <th>area</th>\n",
       "    </tr>\n",
       "  </thead>\n",
       "  <tbody>\n",
       "  </tbody>\n",
       "</table>\n",
       "</div>"
      ],
      "text/plain": [
       "Empty DataFrame\n",
       "Columns: [X, Y, month, day, FFMC, DMC, DC, ISI, temp, RH, wind, rain, area]\n",
       "Index: []"
      ]
     },
     "execution_count": 6,
     "metadata": {},
     "output_type": "execute_result"
    }
   ],
   "source": [
    "df[df.isna().any(axis=1)]"
   ]
  },
  {
   "cell_type": "code",
   "execution_count": 32,
   "id": "cade3844-1e3d-429d-a470-b66bd93fee70",
   "metadata": {
    "tags": []
   },
   "outputs": [
    {
     "name": "stdout",
     "output_type": "stream",
     "text": [
      "['mar', 'oct', 'aug', 'sep', 'apr', 'jun', 'jul', 'feb', 'jan', 'dec', 'may', 'nov']\n",
      "['fri', 'tue', 'sat', 'sun', 'mon', 'wed', 'thu']\n"
     ]
    }
   ],
   "source": [
    "print(list(pd.unique(df[\"month\"])))\n",
    "print(list(pd.unique(df[\"day\"])))"
   ]
  },
  {
   "cell_type": "code",
   "execution_count": 35,
   "id": "5ba3aeca-8cb2-4cb0-842f-3f09e584891c",
   "metadata": {
    "tags": []
   },
   "outputs": [],
   "source": [
    "day_dic = {'fri':6, 'tue':3, 'sat':7, 'sun':1, 'mon':2, 'wed':4, 'thu':5}\n",
    "month_dic = {'mar':3,\n",
    "             'oct':10,\n",
    "             'aug':8,\n",
    "             'sep':9,\n",
    "             'apr':4,\n",
    "             'jun':6,\n",
    "             'jul':7,\n",
    "             'feb':2,\n",
    "             'jan':1,\n",
    "             'dec':12,\n",
    "             'may':5,\n",
    "             'nov':11}"
   ]
  },
  {
   "cell_type": "code",
   "execution_count": 36,
   "id": "cb1ff02c",
   "metadata": {
    "tags": []
   },
   "outputs": [
    {
     "data": {
      "text/html": [
       "<div>\n",
       "<style scoped>\n",
       "    .dataframe tbody tr th:only-of-type {\n",
       "        vertical-align: middle;\n",
       "    }\n",
       "\n",
       "    .dataframe tbody tr th {\n",
       "        vertical-align: top;\n",
       "    }\n",
       "\n",
       "    .dataframe thead th {\n",
       "        text-align: right;\n",
       "    }\n",
       "</style>\n",
       "<table border=\"1\" class=\"dataframe\">\n",
       "  <thead>\n",
       "    <tr style=\"text-align: right;\">\n",
       "      <th></th>\n",
       "      <th>X</th>\n",
       "      <th>Y</th>\n",
       "      <th>month</th>\n",
       "      <th>day</th>\n",
       "      <th>FFMC</th>\n",
       "      <th>DMC</th>\n",
       "      <th>DC</th>\n",
       "      <th>ISI</th>\n",
       "      <th>temp</th>\n",
       "      <th>RH</th>\n",
       "      <th>wind</th>\n",
       "      <th>rain</th>\n",
       "      <th>area</th>\n",
       "    </tr>\n",
       "  </thead>\n",
       "  <tbody>\n",
       "    <tr>\n",
       "      <th>0</th>\n",
       "      <td>7</td>\n",
       "      <td>5</td>\n",
       "      <td>3</td>\n",
       "      <td>6</td>\n",
       "      <td>86.2</td>\n",
       "      <td>26.2</td>\n",
       "      <td>94.3</td>\n",
       "      <td>5.1</td>\n",
       "      <td>8.2</td>\n",
       "      <td>51</td>\n",
       "      <td>6.7</td>\n",
       "      <td>0.0</td>\n",
       "      <td>0.00</td>\n",
       "    </tr>\n",
       "    <tr>\n",
       "      <th>1</th>\n",
       "      <td>7</td>\n",
       "      <td>4</td>\n",
       "      <td>10</td>\n",
       "      <td>3</td>\n",
       "      <td>90.6</td>\n",
       "      <td>35.4</td>\n",
       "      <td>669.1</td>\n",
       "      <td>6.7</td>\n",
       "      <td>18.0</td>\n",
       "      <td>33</td>\n",
       "      <td>0.9</td>\n",
       "      <td>0.0</td>\n",
       "      <td>0.00</td>\n",
       "    </tr>\n",
       "    <tr>\n",
       "      <th>2</th>\n",
       "      <td>7</td>\n",
       "      <td>4</td>\n",
       "      <td>10</td>\n",
       "      <td>7</td>\n",
       "      <td>90.6</td>\n",
       "      <td>43.7</td>\n",
       "      <td>686.9</td>\n",
       "      <td>6.7</td>\n",
       "      <td>14.6</td>\n",
       "      <td>33</td>\n",
       "      <td>1.3</td>\n",
       "      <td>0.0</td>\n",
       "      <td>0.00</td>\n",
       "    </tr>\n",
       "    <tr>\n",
       "      <th>3</th>\n",
       "      <td>8</td>\n",
       "      <td>6</td>\n",
       "      <td>3</td>\n",
       "      <td>6</td>\n",
       "      <td>91.7</td>\n",
       "      <td>33.3</td>\n",
       "      <td>77.5</td>\n",
       "      <td>9.0</td>\n",
       "      <td>8.3</td>\n",
       "      <td>97</td>\n",
       "      <td>4.0</td>\n",
       "      <td>0.2</td>\n",
       "      <td>0.00</td>\n",
       "    </tr>\n",
       "    <tr>\n",
       "      <th>4</th>\n",
       "      <td>8</td>\n",
       "      <td>6</td>\n",
       "      <td>3</td>\n",
       "      <td>1</td>\n",
       "      <td>89.3</td>\n",
       "      <td>51.3</td>\n",
       "      <td>102.2</td>\n",
       "      <td>9.6</td>\n",
       "      <td>11.4</td>\n",
       "      <td>99</td>\n",
       "      <td>1.8</td>\n",
       "      <td>0.0</td>\n",
       "      <td>0.00</td>\n",
       "    </tr>\n",
       "    <tr>\n",
       "      <th>...</th>\n",
       "      <td>...</td>\n",
       "      <td>...</td>\n",
       "      <td>...</td>\n",
       "      <td>...</td>\n",
       "      <td>...</td>\n",
       "      <td>...</td>\n",
       "      <td>...</td>\n",
       "      <td>...</td>\n",
       "      <td>...</td>\n",
       "      <td>...</td>\n",
       "      <td>...</td>\n",
       "      <td>...</td>\n",
       "      <td>...</td>\n",
       "    </tr>\n",
       "    <tr>\n",
       "      <th>512</th>\n",
       "      <td>4</td>\n",
       "      <td>3</td>\n",
       "      <td>8</td>\n",
       "      <td>1</td>\n",
       "      <td>81.6</td>\n",
       "      <td>56.7</td>\n",
       "      <td>665.6</td>\n",
       "      <td>1.9</td>\n",
       "      <td>27.8</td>\n",
       "      <td>32</td>\n",
       "      <td>2.7</td>\n",
       "      <td>0.0</td>\n",
       "      <td>6.44</td>\n",
       "    </tr>\n",
       "    <tr>\n",
       "      <th>513</th>\n",
       "      <td>2</td>\n",
       "      <td>4</td>\n",
       "      <td>8</td>\n",
       "      <td>1</td>\n",
       "      <td>81.6</td>\n",
       "      <td>56.7</td>\n",
       "      <td>665.6</td>\n",
       "      <td>1.9</td>\n",
       "      <td>21.9</td>\n",
       "      <td>71</td>\n",
       "      <td>5.8</td>\n",
       "      <td>0.0</td>\n",
       "      <td>54.29</td>\n",
       "    </tr>\n",
       "    <tr>\n",
       "      <th>514</th>\n",
       "      <td>7</td>\n",
       "      <td>4</td>\n",
       "      <td>8</td>\n",
       "      <td>1</td>\n",
       "      <td>81.6</td>\n",
       "      <td>56.7</td>\n",
       "      <td>665.6</td>\n",
       "      <td>1.9</td>\n",
       "      <td>21.2</td>\n",
       "      <td>70</td>\n",
       "      <td>6.7</td>\n",
       "      <td>0.0</td>\n",
       "      <td>11.16</td>\n",
       "    </tr>\n",
       "    <tr>\n",
       "      <th>515</th>\n",
       "      <td>1</td>\n",
       "      <td>4</td>\n",
       "      <td>8</td>\n",
       "      <td>7</td>\n",
       "      <td>94.4</td>\n",
       "      <td>146.0</td>\n",
       "      <td>614.7</td>\n",
       "      <td>11.3</td>\n",
       "      <td>25.6</td>\n",
       "      <td>42</td>\n",
       "      <td>4.0</td>\n",
       "      <td>0.0</td>\n",
       "      <td>0.00</td>\n",
       "    </tr>\n",
       "    <tr>\n",
       "      <th>516</th>\n",
       "      <td>6</td>\n",
       "      <td>3</td>\n",
       "      <td>11</td>\n",
       "      <td>3</td>\n",
       "      <td>79.5</td>\n",
       "      <td>3.0</td>\n",
       "      <td>106.7</td>\n",
       "      <td>1.1</td>\n",
       "      <td>11.8</td>\n",
       "      <td>31</td>\n",
       "      <td>4.5</td>\n",
       "      <td>0.0</td>\n",
       "      <td>0.00</td>\n",
       "    </tr>\n",
       "  </tbody>\n",
       "</table>\n",
       "<p>517 rows × 13 columns</p>\n",
       "</div>"
      ],
      "text/plain": [
       "     X  Y  month  day  FFMC    DMC     DC   ISI  temp  RH  wind  rain   area\n",
       "0    7  5      3    6  86.2   26.2   94.3   5.1   8.2  51   6.7   0.0   0.00\n",
       "1    7  4     10    3  90.6   35.4  669.1   6.7  18.0  33   0.9   0.0   0.00\n",
       "2    7  4     10    7  90.6   43.7  686.9   6.7  14.6  33   1.3   0.0   0.00\n",
       "3    8  6      3    6  91.7   33.3   77.5   9.0   8.3  97   4.0   0.2   0.00\n",
       "4    8  6      3    1  89.3   51.3  102.2   9.6  11.4  99   1.8   0.0   0.00\n",
       "..  .. ..    ...  ...   ...    ...    ...   ...   ...  ..   ...   ...    ...\n",
       "512  4  3      8    1  81.6   56.7  665.6   1.9  27.8  32   2.7   0.0   6.44\n",
       "513  2  4      8    1  81.6   56.7  665.6   1.9  21.9  71   5.8   0.0  54.29\n",
       "514  7  4      8    1  81.6   56.7  665.6   1.9  21.2  70   6.7   0.0  11.16\n",
       "515  1  4      8    7  94.4  146.0  614.7  11.3  25.6  42   4.0   0.0   0.00\n",
       "516  6  3     11    3  79.5    3.0  106.7   1.1  11.8  31   4.5   0.0   0.00\n",
       "\n",
       "[517 rows x 13 columns]"
      ]
     },
     "execution_count": 36,
     "metadata": {},
     "output_type": "execute_result"
    }
   ],
   "source": [
    "df1= df\n",
    "df1[\"month\"] = df1.apply(lambda x:month_dic[x[\"month\"]],axis=1)\n",
    "df1[\"day\"] = df1.apply(lambda x:day_dic[x[\"day\"]],axis=1)\n",
    "df1"
   ]
  },
  {
   "cell_type": "code",
   "execution_count": 171,
   "id": "41c64d92-4ca4-4c39-ba1b-c87529fe1cf7",
   "metadata": {
    "tags": []
   },
   "outputs": [],
   "source": [
    "from sklearn.preprocessing import normalize,PolynomialFeatures"
   ]
  },
  {
   "cell_type": "code",
   "execution_count": 194,
   "id": "a547e504",
   "metadata": {
    "tags": []
   },
   "outputs": [
    {
     "name": "stdout",
     "output_type": "stream",
     "text": [
      "12.847292069632493\n",
      "4052.063224823444\n",
      "0.52\n"
     ]
    },
    {
     "data": {
      "image/png": "[encoded data removed]",
      "text/plain": [
       "<Figure size 640x480 with 1 Axes>"
      ]
     },
     "metadata": {},
     "output_type": "display_data"
    }
   ],
   "source": [
    "y = df1[[\"area\"]]\n",
    "X,norms = normalize(df1[['X', 'Y', 'month', 'day', 'FFMC', 'DMC', 'DC', 'ISI', 'temp', 'RH',\n",
    "       'wind', 'rain']],return_norm=True)\n",
    "\n",
    "plt.boxplot(y);\n",
    "print(y[\"area\"].mean())\n",
    "print(y[\"area\"].var())\n",
    "print(y[\"area\"].median())"
   ]
  },
  {
   "cell_type": "code",
   "execution_count": 195,
   "id": "fd521a50-02d7-4271-896f-467acdc520bb",
   "metadata": {
    "tags": []
   },
   "outputs": [
    {
     "data": {
      "text/plain": [
       "array(['1', 'X', 'Y', 'month', 'day', 'FFMC', 'DMC', 'DC', 'ISI', 'temp',\n",
       "       'RH', 'wind', 'rain', 'X^2', 'X Y', 'X month', 'X day', 'X FFMC',\n",
       "       'X DMC', 'X DC', 'X ISI', 'X temp', 'X RH', 'X wind', 'X rain',\n",
       "       'Y^2', 'Y month', 'Y day', 'Y FFMC', 'Y DMC', 'Y DC', 'Y ISI',\n",
       "       'Y temp', 'Y RH', 'Y wind', 'Y rain', 'month^2', 'month day',\n",
       "       'month FFMC', 'month DMC', 'month DC', 'month ISI', 'month temp',\n",
       "       'month RH', 'month wind', 'month rain', 'day^2', 'day FFMC',\n",
       "       'day DMC', 'day DC', 'day ISI', 'day temp', 'day RH', 'day wind',\n",
       "       'day rain', 'FFMC^2', 'FFMC DMC', 'FFMC DC', 'FFMC ISI',\n",
       "       'FFMC temp', 'FFMC RH', 'FFMC wind', 'FFMC rain', 'DMC^2',\n",
       "       'DMC DC', 'DMC ISI', 'DMC temp', 'DMC RH', 'DMC wind', 'DMC rain',\n",
       "       'DC^2', 'DC ISI', 'DC temp', 'DC RH', 'DC wind', 'DC rain',\n",
       "       'ISI^2', 'ISI temp', 'ISI RH', 'ISI wind', 'ISI rain', 'temp^2',\n",
       "       'temp RH', 'temp wind', 'temp rain', 'RH^2', 'RH wind', 'RH rain',\n",
       "       'wind^2', 'wind rain', 'rain^2'], dtype=object)"
      ]
     },
     "execution_count": 195,
     "metadata": {},
     "output_type": "execute_result"
    }
   ],
   "source": [
    "poly = PolynomialFeatures(degree=2,interaction_only=False)\n",
    "X = poly.fit_transform(X)\n",
    "poly.get_feature_names_out(list(df1.columns[:-1]))"
   ]
  },
  {
   "cell_type": "code",
   "execution_count": 196,
   "id": "58228a05",
   "metadata": {
    "tags": []
   },
   "outputs": [],
   "source": [
    "from sklearn.model_selection import cross_validate\n",
    "from sklearn.linear_model import LinearRegression"
   ]
  },
  {
   "cell_type": "code",
   "execution_count": 197,
   "id": "fbfd8d11",
   "metadata": {
    "tags": []
   },
   "outputs": [
    {
     "data": {
      "text/html": [
       "<div>\n",
       "<style scoped>\n",
       "    .dataframe tbody tr th:only-of-type {\n",
       "        vertical-align: middle;\n",
       "    }\n",
       "\n",
       "    .dataframe tbody tr th {\n",
       "        vertical-align: top;\n",
       "    }\n",
       "\n",
       "    .dataframe thead th {\n",
       "        text-align: right;\n",
       "    }\n",
       "</style>\n",
       "<table border=\"1\" class=\"dataframe\">\n",
       "  <thead>\n",
       "    <tr style=\"text-align: right;\">\n",
       "      <th></th>\n",
       "      <th>fit_time</th>\n",
       "      <th>score_time</th>\n",
       "      <th>test_max_error</th>\n",
       "      <th>train_max_error</th>\n",
       "      <th>test_r2</th>\n",
       "      <th>train_r2</th>\n",
       "      <th>test_explained_variance</th>\n",
       "      <th>train_explained_variance</th>\n",
       "      <th>test_neg_root_mean_squared_error</th>\n",
       "      <th>train_neg_root_mean_squared_error</th>\n",
       "    </tr>\n",
       "  </thead>\n",
       "  <tbody>\n",
       "    <tr>\n",
       "      <th>0</th>\n",
       "      <td>0.007766</td>\n",
       "      <td>0.008354</td>\n",
       "      <td>-8.828103e+09</td>\n",
       "      <td>-1042.7150</td>\n",
       "      <td>0.000000e+00</td>\n",
       "      <td>0.049803</td>\n",
       "      <td>0.000000e+00</td>\n",
       "      <td>0.049870</td>\n",
       "      <td>-1.159187e+09</td>\n",
       "      <td>-65.620661</td>\n",
       "    </tr>\n",
       "    <tr>\n",
       "      <th>1</th>\n",
       "      <td>0.009025</td>\n",
       "      <td>0.004702</td>\n",
       "      <td>-7.605000e+02</td>\n",
       "      <td>-1045.3400</td>\n",
       "      <td>0.000000e+00</td>\n",
       "      <td>0.033564</td>\n",
       "      <td>0.000000e+00</td>\n",
       "      <td>0.033564</td>\n",
       "      <td>-1.536903e+02</td>\n",
       "      <td>-66.179042</td>\n",
       "    </tr>\n",
       "    <tr>\n",
       "      <th>2</th>\n",
       "      <td>0.013162</td>\n",
       "      <td>0.010176</td>\n",
       "      <td>-2.138125e+02</td>\n",
       "      <td>-1044.6525</td>\n",
       "      <td>-1.869181e+03</td>\n",
       "      <td>0.052274</td>\n",
       "      <td>-1.731888e+03</td>\n",
       "      <td>0.052275</td>\n",
       "      <td>-4.135774e+01</td>\n",
       "      <td>-65.559266</td>\n",
       "    </tr>\n",
       "    <tr>\n",
       "      <th>3</th>\n",
       "      <td>0.012076</td>\n",
       "      <td>0.010180</td>\n",
       "      <td>-1.863000e+02</td>\n",
       "      <td>-1048.3400</td>\n",
       "      <td>-3.618925e+00</td>\n",
       "      <td>0.049027</td>\n",
       "      <td>-2.431875e+00</td>\n",
       "      <td>0.049027</td>\n",
       "      <td>-4.404139e+01</td>\n",
       "      <td>-65.342031</td>\n",
       "    </tr>\n",
       "    <tr>\n",
       "      <th>4</th>\n",
       "      <td>0.044993</td>\n",
       "      <td>0.010050</td>\n",
       "      <td>-7.673542e+07</td>\n",
       "      <td>-693.9050</td>\n",
       "      <td>-5.576435e+09</td>\n",
       "      <td>0.077607</td>\n",
       "      <td>-5.551954e+09</td>\n",
       "      <td>0.077608</td>\n",
       "      <td>-1.115060e+07</td>\n",
       "      <td>-39.342564</td>\n",
       "    </tr>\n",
       "  </tbody>\n",
       "</table>\n",
       "</div>"
      ],
      "text/plain": [
       "   fit_time  score_time  test_max_error  train_max_error       test_r2  \\\n",
       "0  0.007766    0.008354   -8.828103e+09       -1042.7150  0.000000e+00   \n",
       "1  0.009025    0.004702   -7.605000e+02       -1045.3400  0.000000e+00   \n",
       "2  0.013162    0.010176   -2.138125e+02       -1044.6525 -1.869181e+03   \n",
       "3  0.012076    0.010180   -1.863000e+02       -1048.3400 -3.618925e+00   \n",
       "4  0.044993    0.010050   -7.673542e+07        -693.9050 -5.576435e+09   \n",
       "\n",
       "   train_r2  test_explained_variance  train_explained_variance  \\\n",
       "0  0.049803             0.000000e+00                  0.049870   \n",
       "1  0.033564             0.000000e+00                  0.033564   \n",
       "2  0.052274            -1.731888e+03                  0.052275   \n",
       "3  0.049027            -2.431875e+00                  0.049027   \n",
       "4  0.077607            -5.551954e+09                  0.077608   \n",
       "\n",
       "   test_neg_root_mean_squared_error  train_neg_root_mean_squared_error  \n",
       "0                     -1.159187e+09                         -65.620661  \n",
       "1                     -1.536903e+02                         -66.179042  \n",
       "2                     -4.135774e+01                         -65.559266  \n",
       "3                     -4.404139e+01                         -65.342031  \n",
       "4                     -1.115060e+07                         -39.342564  "
      ]
     },
     "execution_count": 197,
     "metadata": {},
     "output_type": "execute_result"
    }
   ],
   "source": [
    "folds=9\n",
    "\n",
    "lr = LinearRegression()\n",
    "cv_results = pd.DataFrame(cross_validate(lr,X,y,cv=folds,n_jobs=3,return_train_score=True,scoring=(\"max_error\",\"r2\",\"explained_variance\",\"neg_root_mean_squared_error\")))\n",
    "cv_results.head()"
   ]
  },
  {
   "cell_type": "code",
   "execution_count": 198,
   "id": "3009a6af",
   "metadata": {
    "tags": []
   },
   "outputs": [
    {
     "data": {
      "text/plain": [
       "-619604142.8124765"
      ]
     },
     "execution_count": 198,
     "metadata": {},
     "output_type": "execute_result"
    },
    {
     "data": {
      "image/png": "[encoded data removed]",
      "text/plain": [
       "<Figure size 640x480 with 1 Axes>"
      ]
     },
     "metadata": {},
     "output_type": "display_data"
    }
   ],
   "source": [
    "plt.boxplot(cv_results[\"test_r2\"]);\n",
    "(cv_results[\"test_r2\"]).mean()"
   ]
  },
  {
   "cell_type": "code",
   "execution_count": 199,
   "id": "17234255",
   "metadata": {
    "tags": []
   },
   "outputs": [],
   "source": [
    "from sklearn.linear_model import Ridge,Lasso"
   ]
  },
  {
   "cell_type": "code",
   "execution_count": 200,
   "id": "83449273",
   "metadata": {
    "tags": []
   },
   "outputs": [],
   "source": [
    "folds = 3"
   ]
  },
  {
   "cell_type": "code",
   "execution_count": 201,
   "id": "9b6519d2",
   "metadata": {
    "tags": []
   },
   "outputs": [],
   "source": [
    "import numpy as np\n",
    "alphas = np.linspace(0.01,1,50)"
   ]
  },
  {
   "cell_type": "code",
   "execution_count": 203,
   "id": "dbc27aa2",
   "metadata": {
    "tags": []
   },
   "outputs": [
    {
     "data": {
      "image/png": "[encoded data removed]",
      "text/plain": [
       "<Figure size 640x480 with 1 Axes>"
      ]
     },
     "metadata": {},
     "output_type": "display_data"
    }
   ],
   "source": [
    "rmse = []\n",
    "r2 = []\n",
    "for al in alphas:\n",
    "    la = Lasso(alpha=al)\n",
    "    cv = pd.DataFrame(cross_validate(la,X,y,cv=folds,n_jobs=3,return_train_score=True,scoring=(\"max_error\",\"r2\",\"explained_variance\",\"neg_root_mean_squared_error\")))\n",
    "    rmse.append(cv[\"test_neg_root_mean_squared_error\"])\n",
    "    r2.append(cv[\"test_r2\"])\n",
    "plt.boxplot(r2);"
   ]
  },
  {
   "cell_type": "code",
   "execution_count": 204,
   "id": "e0acd2ee-a530-4bb7-ad9a-74aedc67a591",
   "metadata": {
    "tags": []
   },
   "outputs": [
    {
     "data": {
      "text/plain": [
       "0.05040816326530612"
      ]
     },
     "execution_count": 204,
     "metadata": {},
     "output_type": "execute_result"
    }
   ],
   "source": [
    "alphas[2]"
   ]
  },
  {
   "cell_type": "code",
   "execution_count": 207,
   "id": "0aff4dd9",
   "metadata": {
    "tags": []
   },
   "outputs": [
    {
     "data": {
      "image/png": "[encoded data removed]",
      "text/plain": [
       "<Figure size 640x480 with 1 Axes>"
      ]
     },
     "metadata": {},
     "output_type": "display_data"
    }
   ],
   "source": [
    "r2 = []\n",
    "rmse = []\n",
    "for al in alphas:\n",
    "    ri = Ridge(alpha=al)\n",
    "    cv = pd.DataFrame(cross_validate(ri,X,y,cv=folds,n_jobs=3,return_train_score=True,scoring=(\"max_error\",\"r2\",\"explained_variance\",\"neg_root_mean_squared_error\")))\n",
    "    rmse.append(cv[\"train_neg_root_mean_squared_error\"])\n",
    "    r2.append(cv[\"train_r2\"])\n",
    "plt.boxplot(rmse);"
   ]
  },
  {
   "cell_type": "code",
   "execution_count": 208,
   "id": "2bce8cfb",
   "metadata": {
    "tags": []
   },
   "outputs": [],
   "source": [
    "from sklearn.model_selection import train_test_split\n",
    "from sklearn.metrics import mean_squared_error,r2_score"
   ]
  },
  {
   "cell_type": "code",
   "execution_count": 209,
   "id": "1799f862",
   "metadata": {
    "tags": []
   },
   "outputs": [],
   "source": [
    "X_train, X_test, y_train, y_test = train_test_split(\n",
    "    X, y, test_size=0.33, random_state=9)"
   ]
  },
  {
   "cell_type": "code",
   "execution_count": 212,
   "id": "c6172a1c",
   "metadata": {
    "tags": []
   },
   "outputs": [],
   "source": [
    "alphas = np.linspace(0.001,5,50)\n",
    "alphas;"
   ]
  },
  {
   "cell_type": "code",
   "execution_count": 213,
   "id": "e6c7fa55",
   "metadata": {
    "tags": []
   },
   "outputs": [
    {
     "name": "stderr",
     "output_type": "stream",
     "text": [
      "/home/rick/.local/lib/python3.10/site-packages/sklearn/linear_model/_coordinate_descent.py:634: ConvergenceWarning: Objective did not converge. You might want to increase the number of iterations, check the scale of the features or consider increasing regularisation. Duality gap: 5.573e+05, tolerance: 1.795e+02\n",
      "  model = cd_fast.enet_coordinate_descent(\n"
     ]
    },
    {
     "data": {
      "text/plain": [
       "<matplotlib.legend.Legend at 0x7fd184a236d0>"
      ]
     },
     "execution_count": 213,
     "metadata": {},
     "output_type": "execute_result"
    },
    {
     "data": {
      "image/png": "[encoded data removed]",
      "text/plain": [
       "<Figure size 640x480 with 2 Axes>"
      ]
     },
     "metadata": {},
     "output_type": "display_data"
    }
   ],
   "source": [
    "lr = LinearRegression()\n",
    "lr.fit(X_train,y_train)\n",
    "lr_beta_size_1 = np.sum(np.abs(np.concatenate((lr.coef_[0],lr.intercept_))))\n",
    "\n",
    "train_mse = []\n",
    "test_mse = []\n",
    "train_r2 = []\n",
    "test_r2 = []\n",
    "betas = []\n",
    "\n",
    "for al in alphas:\n",
    "    la = Lasso(alpha=al)\n",
    "    la.fit(X_train,y_train)\n",
    "    \n",
    "    y_test_pred = la.predict(X_test)\n",
    "    y_train_pred= la.predict(X_train)\n",
    "    \n",
    "    train_r2.append(r2_score(y_train, y_train_pred))\n",
    "    test_r2.append(r2_score(y_test, y_test_pred))\n",
    "    \n",
    "    train_mse.append(mean_squared_error(y_train, y_train_pred))\n",
    "    test_mse.append(mean_squared_error(y_test, y_test_pred))\n",
    "    betas.append(np.sum(np.abs(np.concatenate((la.coef_,la.intercept_))))/lr_beta_size_1)\n",
    "    \n",
    "results = pd.DataFrame({\"train_r2\":train_r2,\"test_r2\":test_r2,\"test_mse\":test_mse,\"train_mse\":train_mse,\"alpha\":alphas,\"betas\":betas})\n",
    "fig, ax = plt.subplots(2)\n",
    "ax[0].set_title(\"r2\")\n",
    "ax[0].plot(results[\"alpha\"],results[\"test_r2\"],label=\"test\",color='blue');\n",
    "ax[0].plot(results[\"alpha\"],results[\"train_r2\"],label=\"train\",color='red');\n",
    "ax[1].set_title(\"mse\")\n",
    "ax[1].plot(results[\"alpha\"],results[\"test_mse\"],label=\"test\",color='blue');\n",
    "ax[1].plot(results[\"alpha\"],results[\"train_mse\"],label=\"train\",color='red');\n",
    "ax[0].legend()"
   ]
  },
  {
   "cell_type": "code",
   "execution_count": 214,
   "id": "ba08bb91",
   "metadata": {
    "tags": []
   },
   "outputs": [
    {
     "data": {
      "text/html": [
       "<div>\n",
       "<style scoped>\n",
       "    .dataframe tbody tr th:only-of-type {\n",
       "        vertical-align: middle;\n",
       "    }\n",
       "\n",
       "    .dataframe tbody tr th {\n",
       "        vertical-align: top;\n",
       "    }\n",
       "\n",
       "    .dataframe thead th {\n",
       "        text-align: right;\n",
       "    }\n",
       "</style>\n",
       "<table border=\"1\" class=\"dataframe\">\n",
       "  <thead>\n",
       "    <tr style=\"text-align: right;\">\n",
       "      <th></th>\n",
       "      <th>train_r2</th>\n",
       "      <th>test_r2</th>\n",
       "      <th>test_mse</th>\n",
       "      <th>train_mse</th>\n",
       "      <th>alpha</th>\n",
       "      <th>betas</th>\n",
       "    </tr>\n",
       "  </thead>\n",
       "  <tbody>\n",
       "    <tr>\n",
       "      <th>1</th>\n",
       "      <td>0.005226</td>\n",
       "      <td>0.007551</td>\n",
       "      <td>1710.942342</td>\n",
       "      <td>5160.993748</td>\n",
       "      <td>0.10302</td>\n",
       "      <td>2.986548e-14</td>\n",
       "    </tr>\n",
       "  </tbody>\n",
       "</table>\n",
       "</div>"
      ],
      "text/plain": [
       "   train_r2   test_r2     test_mse    train_mse    alpha         betas\n",
       "1  0.005226  0.007551  1710.942342  5160.993748  0.10302  2.986548e-14"
      ]
     },
     "execution_count": 214,
     "metadata": {},
     "output_type": "execute_result"
    },
    {
     "data": {
      "image/png": "[encoded data removed]",
      "text/plain": [
       "<Figure size 640x480 with 1 Axes>"
      ]
     },
     "metadata": {},
     "output_type": "display_data"
    }
   ],
   "source": [
    "aux = \"test_mse\" #'test_mse'\n",
    "plt.boxplot(results[aux]);\n",
    "results[results[aux] == results[aux].min()]"
   ]
  },
  {
   "cell_type": "code",
   "execution_count": 215,
   "id": "e696ade0",
   "metadata": {
    "tags": []
   },
   "outputs": [
    {
     "name": "stdout",
     "output_type": "stream",
     "text": [
      "coef de X:0.0 \n",
      "coef de Y:0.0 \n",
      "coef de month:-0.0 \n",
      "coef de day:-0.0 \n",
      "coef de FFMC:-0.0 \n",
      "coef de DMC:-4.20859342830891 \n",
      "coef de DC:0.0 \n",
      "coef de ISI:0.0 \n",
      "coef de temp:-0.0 \n",
      "coef de RH:0.0 \n",
      "coef de wind:-10.258076619249907 \n",
      "coef de rain:-0.0 \n",
      "coef de area:-0.0 \n"
     ]
    }
   ],
   "source": [
    "#origin é 1. American, 2. European, 3. Japanese\n",
    "la = Lasso(alpha=0.13)\n",
    "la.fit(X,y)\n",
    "for i in range(len(df1.columns)):\n",
    "    print(f\"coef de {list(df1.columns)[i]}:{la.coef_[i]} \")"
   ]
  },
  {
   "cell_type": "code",
   "execution_count": 216,
   "id": "5e18a64c-61b8-4ff2-8c64-9bc7c481ccf8",
   "metadata": {
    "tags": []
   },
   "outputs": [
    {
     "name": "stdout",
     "output_type": "stream",
     "text": [
      "coef de X:0.0 \n",
      "coef de Y:58.99999352542882 \n",
      "coef de month:3.632213693110497 \n",
      "coef de day:21.475489805040546 \n",
      "coef de FFMC:8.260839401761407 \n",
      "coef de DMC:-10.318438615421636 \n",
      "coef de DC:24.28396828057299 \n",
      "coef de ISI:12.60036258885694 \n",
      "coef de temp:-30.165044094452487 \n",
      "coef de RH:32.74437599392614 \n",
      "coef de wind:-59.45713282127469 \n",
      "coef de rain:24.749059179553846 \n",
      "coef de area:-1.0713363849563622 \n"
     ]
    }
   ],
   "source": [
    "#origin é 1. American, 2. European, 3. Japanese\n",
    "la = Ridge(alpha=0.13)\n",
    "la.fit(X,y)\n",
    "for i in range(len(df1.columns)):\n",
    "    print(f\"coef de {list(df1.columns)[i]}:{la.coef_[0][i]} \")"
   ]
  },
  {
   "cell_type": "code",
   "execution_count": 217,
   "id": "e4be14c1-832f-415b-bea4-c1dcda41e057",
   "metadata": {
    "tags": []
   },
   "outputs": [
    {
     "data": {
      "text/plain": [
       "array([22.0118541])"
      ]
     },
     "execution_count": 217,
     "metadata": {},
     "output_type": "execute_result"
    }
   ],
   "source": [
    "la.intercept_"
   ]
  },
  {
   "cell_type": "code",
   "execution_count": 218,
   "id": "9ebf81ee-ec4c-4e75-945c-0681fbb871d7",
   "metadata": {
    "tags": []
   },
   "outputs": [
    {
     "data": {
      "text/plain": [
       "<matplotlib.legend.Legend at 0x7fd14cab9390>"
      ]
     },
     "execution_count": 218,
     "metadata": {},
     "output_type": "execute_result"
    },
    {
     "data": {
      "image/png": "[encoded data removed]",
      "text/plain": [
       "<Figure size 640x480 with 2 Axes>"
      ]
     },
     "metadata": {},
     "output_type": "display_data"
    }
   ],
   "source": [
    "lr = LinearRegression()\n",
    "lr.fit(X_train,y_train)\n",
    "lr_beta_size_2 = np.sum(np.square(np.concatenate((lr.coef_[0],lr.intercept_))))\n",
    "\n",
    "train_mse = []\n",
    "test_mse = []\n",
    "train_r2 = []\n",
    "test_r2 = []\n",
    "betas = []\n",
    "\n",
    "for al in alphas:\n",
    "    la = Ridge(alpha=al)\n",
    "    la.fit(X_train,y_train)\n",
    "    \n",
    "    y_test_pred = la.predict(X_test)\n",
    "    y_train_pred= la.predict(X_train)\n",
    "    \n",
    "    train_r2.append(r2_score(y_train, y_train_pred))\n",
    "    test_r2.append(r2_score(y_test, y_test_pred))\n",
    "    \n",
    "    train_mse.append(mean_squared_error(y_train, y_train_pred))\n",
    "    test_mse.append(mean_squared_error(y_test, y_test_pred))\n",
    "    betas.append(np.sum(np.square(np.concatenate((la.coef_[0],la.intercept_))))/lr_beta_size_2)\n",
    "    \n",
    "results = pd.DataFrame({\"train_r2\":train_r2,\"test_r2\":test_r2,\"test_mse\":test_mse,\"train_mse\":train_mse,\"alpha\":alphas,\"betas\":betas})\n",
    "fig, ax = plt.subplots(2)\n",
    "ax[0].set_title(\"r2\")\n",
    "ax[0].plot(results[\"alpha\"],results[\"test_r2\"],label=\"test\",color='blue');\n",
    "ax[0].plot(results[\"alpha\"],results[\"train_r2\"],label=\"train\",color='red');\n",
    "ax[1].set_title(\"mse\")\n",
    "ax[1].plot(results[\"alpha\"],results[\"test_mse\"],label=\"test\",color='blue');\n",
    "ax[1].plot(results[\"alpha\"],results[\"train_mse\"],label=\"train\",color='red');\n",
    "ax[0].legend()"
   ]
  },
  {
   "cell_type": "code",
   "execution_count": 219,
   "id": "a9aee4b3",
   "metadata": {
    "tags": []
   },
   "outputs": [
    {
     "data": {
      "text/plain": [
       "array([12.98378174])"
      ]
     },
     "execution_count": 219,
     "metadata": {},
     "output_type": "execute_result"
    }
   ],
   "source": [
    "la.intercept_"
   ]
  },
  {
   "cell_type": "code",
   "execution_count": 220,
   "id": "38fdd8f5",
   "metadata": {
    "tags": []
   },
   "outputs": [],
   "source": [
    "from sklearn.linear_model import RidgeCV,LassoCV"
   ]
  },
  {
   "cell_type": "code",
   "execution_count": 224,
   "id": "dfeda039",
   "metadata": {
    "tags": []
   },
   "outputs": [
    {
     "name": "stderr",
     "output_type": "stream",
     "text": [
      "/home/rick/.local/lib/python3.10/site-packages/sklearn/linear_model/_coordinate_descent.py:1561: DataConversionWarning: A column-vector y was passed when a 1d array was expected. Please change the shape of y to (n_samples, ), for example using ravel().\n",
      "  y = column_or_1d(y, warn=True)\n",
      "[Parallel(n_jobs=1)]: Using backend SequentialBackend with 1 concurrent workers.\n",
      "................................................./home/rick/.local/lib/python3.10/site-packages/sklearn/linear_model/_coordinate_descent.py:620: ConvergenceWarning: Objective did not converge. You might want to increase the number of iterations. Duality gap: 48299.93179936241, tolerance: 204.9909255676452\n",
      "  model = cd_fast.enet_coordinate_descent_gram(\n",
      ".................................................."
     ]
    },
    {
     "name": "stdout",
     "output_type": "stream",
     "text": [
      "0.0018317211499755404\n",
      "0.4090816326530612\n"
     ]
    },
    {
     "name": "stderr",
     "output_type": "stream",
     "text": [
      "/home/rick/.local/lib/python3.10/site-packages/sklearn/linear_model/_coordinate_descent.py:620: ConvergenceWarning: Objective did not converge. You might want to increase the number of iterations. Duality gap: 1286.2194452389376, tolerance: 72.52289858997098\n",
      "  model = cd_fast.enet_coordinate_descent_gram(\n",
      "................................................../home/rick/.local/lib/python3.10/site-packages/sklearn/linear_model/_coordinate_descent.py:620: ConvergenceWarning: Objective did not converge. You might want to increase the number of iterations. Duality gap: 6282.112264191965, tolerance: 138.4051404004057\n",
      "  model = cd_fast.enet_coordinate_descent_gram(\n",
      ".[Parallel(n_jobs=1)]: Done   3 out of   3 | elapsed:    0.4s finished\n"
     ]
    }
   ],
   "source": [
    "la = LassoCV(cv=3,max_iter=10000,alphas=alphas,verbose=True);\n",
    "la.fit(X,y);\n",
    "print(la.score(X,y))\n",
    "print(la.alpha_)"
   ]
  },
  {
   "cell_type": "code",
   "execution_count": 225,
   "id": "df050a9d-e673-4ee4-95a4-999ab9f81c78",
   "metadata": {
    "tags": []
   },
   "outputs": [
    {
     "data": {
      "text/plain": [
       "array([ 0.        , -0.        , -0.        , -0.        , -0.        ,\n",
       "       -6.58002242,  0.        ,  0.        , -0.        , -0.        ,\n",
       "       -0.        , -0.        , -0.        , -0.        , -0.        ,\n",
       "       -0.        , -0.        , -0.        ,  0.        ,  0.        ,\n",
       "       -0.        , -0.        , -0.        , -0.        , -0.        ,\n",
       "       -0.        , -0.        , -0.        , -0.        , -0.        ,\n",
       "       -0.        , -0.        , -0.        , -0.        , -0.        ,\n",
       "       -0.        , -0.        , -0.        , -0.        ,  0.        ,\n",
       "       -0.        , -0.        , -0.        , -0.        , -0.        ,\n",
       "       -0.        , -0.        , -0.        , -0.        , -0.        ,\n",
       "       -0.        , -0.        , -0.        , -0.        , -0.        ,\n",
       "       -0.        , -0.        , -0.        , -0.        , -0.        ,\n",
       "       -0.        , -0.        , -0.        ,  0.        ,  0.        ,\n",
       "       -0.        ,  0.        , -0.        , -0.        , -0.        ,\n",
       "        0.        , -0.        ,  0.        , -0.        , -0.        ,\n",
       "       -0.        , -0.        , -0.        , -0.        , -0.        ,\n",
       "       -0.        , -0.        , -0.        , -0.        , -0.        ,\n",
       "       -0.        , -0.        , -0.        , -0.        , -0.        ,\n",
       "       -0.        ])"
      ]
     },
     "execution_count": 225,
     "metadata": {},
     "output_type": "execute_result"
    }
   ],
   "source": [
    "la.coef_"
   ]
  },
  {
   "cell_type": "code",
   "execution_count": 226,
   "id": "c5adcf2e",
   "metadata": {
    "tags": []
   },
   "outputs": [
    {
     "name": "stdout",
     "output_type": "stream",
     "text": [
      "0.004726741118714406\n",
      "10.0\n"
     ]
    }
   ],
   "source": [
    "ri = RidgeCV(cv=3);\n",
    "ri.fit(X,y);\n",
    "print(ri.score(X,y))\n",
    "print(ri.alpha_)"
   ]
  },
  {
   "cell_type": "code",
   "execution_count": 227,
   "id": "54d98cc1-ae05-4c01-adf2-9e0948d13c36",
   "metadata": {
    "tags": []
   },
   "outputs": [
    {
     "name": "stdout",
     "output_type": "stream",
     "text": [
      "0.0017418607711160439\n",
      "0.42628969059025257\n"
     ]
    },
    {
     "name": "stderr",
     "output_type": "stream",
     "text": [
      "/home/rick/.local/lib/python3.10/site-packages/sklearn/linear_model/_coordinate_descent.py:1561: DataConversionWarning: A column-vector y was passed when a 1d array was expected. Please change the shape of y to (n_samples, ), for example using ravel().\n",
      "  y = column_or_1d(y, warn=True)\n",
      "[Parallel(n_jobs=1)]: Using backend SequentialBackend with 1 concurrent workers.\n",
      "............................................................................................................................................................................................................................................................................................................[Parallel(n_jobs=1)]: Done   3 out of   3 | elapsed:    0.1s finished\n"
     ]
    }
   ],
   "source": [
    "la = LassoCV(cv=3,max_iter=10000,verbose=True,selection=\"cyclic\",eps=000000.1);\n",
    "la.fit(X,y);\n",
    "print(la.score(X,y))\n",
    "print(la.alpha_)"
   ]
  },
  {
   "cell_type": "code",
   "execution_count": 157,
   "id": "38a4fc9f-9cf5-4007-bba2-12a28168ecef",
   "metadata": {
    "tags": []
   },
   "outputs": [
    {
     "data": {
      "text/plain": [
       "\u001b[0;31mInit signature:\u001b[0m\n",
       "\u001b[0mLassoCV\u001b[0m\u001b[0;34m(\u001b[0m\u001b[0;34m\u001b[0m\n",
       "\u001b[0;34m\u001b[0m    \u001b[0;34m*\u001b[0m\u001b[0;34m,\u001b[0m\u001b[0;34m\u001b[0m\n",
       "\u001b[0;34m\u001b[0m    \u001b[0meps\u001b[0m\u001b[0;34m=\u001b[0m\u001b[0;36m0.001\u001b[0m\u001b[0;34m,\u001b[0m\u001b[0;34m\u001b[0m\n",
       "\u001b[0;34m\u001b[0m    \u001b[0mn_alphas\u001b[0m\u001b[0;34m=\u001b[0m\u001b[0;36m100\u001b[0m\u001b[0;34m,\u001b[0m\u001b[0;34m\u001b[0m\n",
       "\u001b[0;34m\u001b[0m    \u001b[0malphas\u001b[0m\u001b[0;34m=\u001b[0m\u001b[0;32mNone\u001b[0m\u001b[0;34m,\u001b[0m\u001b[0;34m\u001b[0m\n",
       "\u001b[0;34m\u001b[0m    \u001b[0mfit_intercept\u001b[0m\u001b[0;34m=\u001b[0m\u001b[0;32mTrue\u001b[0m\u001b[0;34m,\u001b[0m\u001b[0;34m\u001b[0m\n",
       "\u001b[0;34m\u001b[0m    \u001b[0mprecompute\u001b[0m\u001b[0;34m=\u001b[0m\u001b[0;34m'auto'\u001b[0m\u001b[0;34m,\u001b[0m\u001b[0;34m\u001b[0m\n",
       "\u001b[0;34m\u001b[0m    \u001b[0mmax_iter\u001b[0m\u001b[0;34m=\u001b[0m\u001b[0;36m1000\u001b[0m\u001b[0;34m,\u001b[0m\u001b[0;34m\u001b[0m\n",
       "\u001b[0;34m\u001b[0m    \u001b[0mtol\u001b[0m\u001b[0;34m=\u001b[0m\u001b[0;36m0.0001\u001b[0m\u001b[0;34m,\u001b[0m\u001b[0;34m\u001b[0m\n",
       "\u001b[0;34m\u001b[0m    \u001b[0mcopy_X\u001b[0m\u001b[0;34m=\u001b[0m\u001b[0;32mTrue\u001b[0m\u001b[0;34m,\u001b[0m\u001b[0;34m\u001b[0m\n",
       "\u001b[0;34m\u001b[0m    \u001b[0mcv\u001b[0m\u001b[0;34m=\u001b[0m\u001b[0;32mNone\u001b[0m\u001b[0;34m,\u001b[0m\u001b[0;34m\u001b[0m\n",
       "\u001b[0;34m\u001b[0m    \u001b[0mverbose\u001b[0m\u001b[0;34m=\u001b[0m\u001b[0;32mFalse\u001b[0m\u001b[0;34m,\u001b[0m\u001b[0;34m\u001b[0m\n",
       "\u001b[0;34m\u001b[0m    \u001b[0mn_jobs\u001b[0m\u001b[0;34m=\u001b[0m\u001b[0;32mNone\u001b[0m\u001b[0;34m,\u001b[0m\u001b[0;34m\u001b[0m\n",
       "\u001b[0;34m\u001b[0m    \u001b[0mpositive\u001b[0m\u001b[0;34m=\u001b[0m\u001b[0;32mFalse\u001b[0m\u001b[0;34m,\u001b[0m\u001b[0;34m\u001b[0m\n",
       "\u001b[0;34m\u001b[0m    \u001b[0mrandom_state\u001b[0m\u001b[0;34m=\u001b[0m\u001b[0;32mNone\u001b[0m\u001b[0;34m,\u001b[0m\u001b[0;34m\u001b[0m\n",
       "\u001b[0;34m\u001b[0m    \u001b[0mselection\u001b[0m\u001b[0;34m=\u001b[0m\u001b[0;34m'cyclic'\u001b[0m\u001b[0;34m,\u001b[0m\u001b[0;34m\u001b[0m\n",
       "\u001b[0;34m\u001b[0m\u001b[0;34m)\u001b[0m\u001b[0;34m\u001b[0m\u001b[0;34m\u001b[0m\u001b[0m\n",
       "\u001b[0;31mDocstring:\u001b[0m     \n",
       "Lasso linear model with iterative fitting along a regularization path.\n",
       "\n",
       "See glossary entry for :term:`cross-validation estimator`.\n",
       "\n",
       "The best model is selected by cross-validation.\n",
       "\n",
       "The optimization objective for Lasso is::\n",
       "\n",
       "    (1 / (2 * n_samples)) * ||y - Xw||^2_2 + alpha * ||w||_1\n",
       "\n",
       "Read more in the :ref:`User Guide <lasso>`.\n",
       "\n",
       "Parameters\n",
       "----------\n",
       "eps : float, default=1e-3\n",
       "    Length of the path. ``eps=1e-3`` means that\n",
       "    ``alpha_min / alpha_max = 1e-3``.\n",
       "\n",
       "n_alphas : int, default=100\n",
       "    Number of alphas along the regularization path.\n",
       "\n",
       "alphas : array-like, default=None\n",
       "    List of alphas where to compute the models.\n",
       "    If ``None`` alphas are set automatically.\n",
       "\n",
       "fit_intercept : bool, default=True\n",
       "    Whether to calculate the intercept for this model. If set\n",
       "    to false, no intercept will be used in calculations\n",
       "    (i.e. data is expected to be centered).\n",
       "\n",
       "precompute : 'auto', bool or array-like of shape             (n_features, n_features), default='auto'\n",
       "    Whether to use a precomputed Gram matrix to speed up\n",
       "    calculations. If set to ``'auto'`` let us decide. The Gram\n",
       "    matrix can also be passed as argument.\n",
       "\n",
       "max_iter : int, default=1000\n",
       "    The maximum number of iterations.\n",
       "\n",
       "tol : float, default=1e-4\n",
       "    The tolerance for the optimization: if the updates are\n",
       "    smaller than ``tol``, the optimization code checks the\n",
       "    dual gap for optimality and continues until it is smaller\n",
       "    than ``tol``.\n",
       "\n",
       "copy_X : bool, default=True\n",
       "    If ``True``, X will be copied; else, it may be overwritten.\n",
       "\n",
       "cv : int, cross-validation generator or iterable, default=None\n",
       "    Determines the cross-validation splitting strategy.\n",
       "    Possible inputs for cv are:\n",
       "\n",
       "    - None, to use the default 5-fold cross-validation,\n",
       "    - int, to specify the number of folds.\n",
       "    - :term:`CV splitter`,\n",
       "    - An iterable yielding (train, test) splits as arrays of indices.\n",
       "\n",
       "    For int/None inputs, :class:`KFold` is used.\n",
       "\n",
       "    Refer :ref:`User Guide <cross_validation>` for the various\n",
       "    cross-validation strategies that can be used here.\n",
       "\n",
       "    .. versionchanged:: 0.22\n",
       "        ``cv`` default value if None changed from 3-fold to 5-fold.\n",
       "\n",
       "verbose : bool or int, default=False\n",
       "    Amount of verbosity.\n",
       "\n",
       "n_jobs : int, default=None\n",
       "    Number of CPUs to use during the cross validation.\n",
       "    ``None`` means 1 unless in a :obj:`joblib.parallel_backend` context.\n",
       "    ``-1`` means using all processors. See :term:`Glossary <n_jobs>`\n",
       "    for more details.\n",
       "\n",
       "positive : bool, default=False\n",
       "    If positive, restrict regression coefficients to be positive.\n",
       "\n",
       "random_state : int, RandomState instance, default=None\n",
       "    The seed of the pseudo random number generator that selects a random\n",
       "    feature to update. Used when ``selection`` == 'random'.\n",
       "    Pass an int for reproducible output across multiple function calls.\n",
       "    See :term:`Glossary <random_state>`.\n",
       "\n",
       "selection : {'cyclic', 'random'}, default='cyclic'\n",
       "    If set to 'random', a random coefficient is updated every iteration\n",
       "    rather than looping over features sequentially by default. This\n",
       "    (setting to 'random') often leads to significantly faster convergence\n",
       "    especially when tol is higher than 1e-4.\n",
       "\n",
       "Attributes\n",
       "----------\n",
       "alpha_ : float\n",
       "    The amount of penalization chosen by cross validation.\n",
       "\n",
       "coef_ : ndarray of shape (n_features,) or (n_targets, n_features)\n",
       "    Parameter vector (w in the cost function formula).\n",
       "\n",
       "intercept_ : float or ndarray of shape (n_targets,)\n",
       "    Independent term in decision function.\n",
       "\n",
       "mse_path_ : ndarray of shape (n_alphas, n_folds)\n",
       "    Mean square error for the test set on each fold, varying alpha.\n",
       "\n",
       "alphas_ : ndarray of shape (n_alphas,)\n",
       "    The grid of alphas used for fitting.\n",
       "\n",
       "dual_gap_ : float or ndarray of shape (n_targets,)\n",
       "    The dual gap at the end of the optimization for the optimal alpha\n",
       "    (``alpha_``).\n",
       "\n",
       "n_iter_ : int\n",
       "    Number of iterations run by the coordinate descent solver to reach\n",
       "    the specified tolerance for the optimal alpha.\n",
       "\n",
       "n_features_in_ : int\n",
       "    Number of features seen during :term:`fit`.\n",
       "\n",
       "    .. versionadded:: 0.24\n",
       "\n",
       "feature_names_in_ : ndarray of shape (`n_features_in_`,)\n",
       "    Names of features seen during :term:`fit`. Defined only when `X`\n",
       "    has feature names that are all strings.\n",
       "\n",
       "    .. versionadded:: 1.0\n",
       "\n",
       "See Also\n",
       "--------\n",
       "lars_path : Compute Least Angle Regression or Lasso path using LARS\n",
       "    algorithm.\n",
       "lasso_path : Compute Lasso path with coordinate descent.\n",
       "Lasso : The Lasso is a linear model that estimates sparse coefficients.\n",
       "LassoLars : Lasso model fit with Least Angle Regression a.k.a. Lars.\n",
       "LassoCV : Lasso linear model with iterative fitting along a regularization\n",
       "    path.\n",
       "LassoLarsCV : Cross-validated Lasso using the LARS algorithm.\n",
       "\n",
       "Notes\n",
       "-----\n",
       "In `fit`, once the best parameter `alpha` is found through\n",
       "cross-validation, the model is fit again using the entire training set.\n",
       "\n",
       "To avoid unnecessary memory duplication the `X` argument of the `fit`\n",
       "method should be directly passed as a Fortran-contiguous numpy array.\n",
       "\n",
       " For an example, see\n",
       " :ref:`examples/linear_model/plot_lasso_model_selection.py\n",
       " <sphx_glr_auto_examples_linear_model_plot_lasso_model_selection.py>`.\n",
       "\n",
       "Examples\n",
       "--------\n",
       ">>> from sklearn.linear_model import LassoCV\n",
       ">>> from sklearn.datasets import make_regression\n",
       ">>> X, y = make_regression(noise=4, random_state=0)\n",
       ">>> reg = LassoCV(cv=5, random_state=0).fit(X, y)\n",
       ">>> reg.score(X, y)\n",
       "0.9993...\n",
       ">>> reg.predict(X[:1,])\n",
       "array([-78.4951...])\n",
       "\u001b[0;31mFile:\u001b[0m           ~/.local/lib/python3.10/site-packages/sklearn/linear_model/_coordinate_descent.py\n",
       "\u001b[0;31mType:\u001b[0m           ABCMeta\n",
       "\u001b[0;31mSubclasses:\u001b[0m     \n"
      ]
     },
     "metadata": {},
     "output_type": "display_data"
    }
   ],
   "source": [
    "?LassoCV"
   ]
  },
  {
   "cell_type": "code",
   "execution_count": null,
   "id": "6095b93b-f9a7-4649-a63b-38fd2b661543",
   "metadata": {},
   "outputs": [],
   "source": []
  }
 ],
 "metadata": {
  "kernelspec": {
   "display_name": "Python 3 (ipykernel)",
   "language": "python",
   "name": "python3"
  },
  "language_info": {
   "codemirror_mode": {
    "name": "ipython",
    "version": 3
   },
   "file_extension": ".py",
   "mimetype": "text/x-python",
   "name": "python",
   "nbconvert_exporter": "python",
   "pygments_lexer": "ipython3",
   "version": "3.10.9"
  }
 },
 "nbformat": 4,
 "nbformat_minor": 5
}
