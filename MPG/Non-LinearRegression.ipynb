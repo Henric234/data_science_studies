{
 "cells": [
  {
   "cell_type": "code",
   "execution_count": 78,
   "id": "82163330",
   "metadata": {
    "tags": []
   },
   "outputs": [],
   "source": [
    "import pandas as pd\n",
    "import matplotlib.pyplot as plt"
   ]
  },
  {
   "cell_type": "code",
   "execution_count": 79,
   "id": "38bf0bef",
   "metadata": {
    "tags": []
   },
   "outputs": [
    {
     "data": {
      "text/html": [
       "<div>\n",
       "<style scoped>\n",
       "    .dataframe tbody tr th:only-of-type {\n",
       "        vertical-align: middle;\n",
       "    }\n",
       "\n",
       "    .dataframe tbody tr th {\n",
       "        vertical-align: top;\n",
       "    }\n",
       "\n",
       "    .dataframe thead th {\n",
       "        text-align: right;\n",
       "    }\n",
       "</style>\n",
       "<table border=\"1\" class=\"dataframe\">\n",
       "  <thead>\n",
       "    <tr style=\"text-align: right;\">\n",
       "      <th></th>\n",
       "      <th>mpg</th>\n",
       "      <th>cylinders</th>\n",
       "      <th>displacement</th>\n",
       "      <th>horsepower</th>\n",
       "      <th>weight</th>\n",
       "      <th>acceleration</th>\n",
       "      <th>model year</th>\n",
       "      <th>origin</th>\n",
       "      <th>car name</th>\n",
       "    </tr>\n",
       "  </thead>\n",
       "  <tbody>\n",
       "    <tr>\n",
       "      <th>0</th>\n",
       "      <td>18.0</td>\n",
       "      <td>8.0</td>\n",
       "      <td>307.0</td>\n",
       "      <td>130.0</td>\n",
       "      <td>3504.0</td>\n",
       "      <td>12.0</td>\n",
       "      <td>70.0</td>\n",
       "      <td>1.0</td>\n",
       "      <td>chevrolet chevelle malibu</td>\n",
       "    </tr>\n",
       "    <tr>\n",
       "      <th>1</th>\n",
       "      <td>15.0</td>\n",
       "      <td>8.0</td>\n",
       "      <td>350.0</td>\n",
       "      <td>165.0</td>\n",
       "      <td>3693.0</td>\n",
       "      <td>11.5</td>\n",
       "      <td>70.0</td>\n",
       "      <td>1.0</td>\n",
       "      <td>buick skylark 320</td>\n",
       "    </tr>\n",
       "    <tr>\n",
       "      <th>2</th>\n",
       "      <td>18.0</td>\n",
       "      <td>8.0</td>\n",
       "      <td>318.0</td>\n",
       "      <td>150.0</td>\n",
       "      <td>3436.0</td>\n",
       "      <td>11.0</td>\n",
       "      <td>70.0</td>\n",
       "      <td>1.0</td>\n",
       "      <td>plymouth satellite</td>\n",
       "    </tr>\n",
       "    <tr>\n",
       "      <th>3</th>\n",
       "      <td>16.0</td>\n",
       "      <td>8.0</td>\n",
       "      <td>304.0</td>\n",
       "      <td>150.0</td>\n",
       "      <td>3433.0</td>\n",
       "      <td>12.0</td>\n",
       "      <td>70.0</td>\n",
       "      <td>1.0</td>\n",
       "      <td>amc rebel sst</td>\n",
       "    </tr>\n",
       "    <tr>\n",
       "      <th>4</th>\n",
       "      <td>17.0</td>\n",
       "      <td>8.0</td>\n",
       "      <td>302.0</td>\n",
       "      <td>140.0</td>\n",
       "      <td>3449.0</td>\n",
       "      <td>10.5</td>\n",
       "      <td>70.0</td>\n",
       "      <td>1.0</td>\n",
       "      <td>ford torino</td>\n",
       "    </tr>\n",
       "    <tr>\n",
       "      <th>...</th>\n",
       "      <td>...</td>\n",
       "      <td>...</td>\n",
       "      <td>...</td>\n",
       "      <td>...</td>\n",
       "      <td>...</td>\n",
       "      <td>...</td>\n",
       "      <td>...</td>\n",
       "      <td>...</td>\n",
       "      <td>...</td>\n",
       "    </tr>\n",
       "    <tr>\n",
       "      <th>401</th>\n",
       "      <td>27.0</td>\n",
       "      <td>4.0</td>\n",
       "      <td>140.0</td>\n",
       "      <td>86.0</td>\n",
       "      <td>2790.0</td>\n",
       "      <td>15.6</td>\n",
       "      <td>82.0</td>\n",
       "      <td>1.0</td>\n",
       "      <td>ford mustang gl</td>\n",
       "    </tr>\n",
       "    <tr>\n",
       "      <th>402</th>\n",
       "      <td>44.0</td>\n",
       "      <td>4.0</td>\n",
       "      <td>97.0</td>\n",
       "      <td>52.0</td>\n",
       "      <td>2130.0</td>\n",
       "      <td>24.6</td>\n",
       "      <td>82.0</td>\n",
       "      <td>2.0</td>\n",
       "      <td>vw pickup</td>\n",
       "    </tr>\n",
       "    <tr>\n",
       "      <th>403</th>\n",
       "      <td>32.0</td>\n",
       "      <td>4.0</td>\n",
       "      <td>135.0</td>\n",
       "      <td>84.0</td>\n",
       "      <td>2295.0</td>\n",
       "      <td>11.6</td>\n",
       "      <td>82.0</td>\n",
       "      <td>1.0</td>\n",
       "      <td>dodge rampage</td>\n",
       "    </tr>\n",
       "    <tr>\n",
       "      <th>404</th>\n",
       "      <td>28.0</td>\n",
       "      <td>4.0</td>\n",
       "      <td>120.0</td>\n",
       "      <td>79.0</td>\n",
       "      <td>2625.0</td>\n",
       "      <td>18.6</td>\n",
       "      <td>82.0</td>\n",
       "      <td>1.0</td>\n",
       "      <td>ford ranger</td>\n",
       "    </tr>\n",
       "    <tr>\n",
       "      <th>405</th>\n",
       "      <td>31.0</td>\n",
       "      <td>4.0</td>\n",
       "      <td>119.0</td>\n",
       "      <td>82.0</td>\n",
       "      <td>2720.0</td>\n",
       "      <td>19.4</td>\n",
       "      <td>82.0</td>\n",
       "      <td>1.0</td>\n",
       "      <td>chevy s-10</td>\n",
       "    </tr>\n",
       "  </tbody>\n",
       "</table>\n",
       "<p>406 rows × 9 columns</p>\n",
       "</div>"
      ],
      "text/plain": [
       "      mpg  cylinders  displacement  horsepower  weight  acceleration  \\\n",
       "0    18.0        8.0         307.0       130.0  3504.0          12.0   \n",
       "1    15.0        8.0         350.0       165.0  3693.0          11.5   \n",
       "2    18.0        8.0         318.0       150.0  3436.0          11.0   \n",
       "3    16.0        8.0         304.0       150.0  3433.0          12.0   \n",
       "4    17.0        8.0         302.0       140.0  3449.0          10.5   \n",
       "..    ...        ...           ...         ...     ...           ...   \n",
       "401  27.0        4.0         140.0        86.0  2790.0          15.6   \n",
       "402  44.0        4.0          97.0        52.0  2130.0          24.6   \n",
       "403  32.0        4.0         135.0        84.0  2295.0          11.6   \n",
       "404  28.0        4.0         120.0        79.0  2625.0          18.6   \n",
       "405  31.0        4.0         119.0        82.0  2720.0          19.4   \n",
       "\n",
       "     model year  origin                   car name  \n",
       "0          70.0     1.0  chevrolet chevelle malibu  \n",
       "1          70.0     1.0          buick skylark 320  \n",
       "2          70.0     1.0         plymouth satellite  \n",
       "3          70.0     1.0              amc rebel sst  \n",
       "4          70.0     1.0                ford torino  \n",
       "..          ...     ...                        ...  \n",
       "401        82.0     1.0            ford mustang gl  \n",
       "402        82.0     2.0                  vw pickup  \n",
       "403        82.0     1.0              dodge rampage  \n",
       "404        82.0     1.0                ford ranger  \n",
       "405        82.0     1.0                 chevy s-10  \n",
       "\n",
       "[406 rows x 9 columns]"
      ]
     },
     "execution_count": 79,
     "metadata": {},
     "output_type": "execute_result"
    }
   ],
   "source": [
    "df = pd.read_csv(\"auto-mpg.data-original\",delim_whitespace=True,names=[\"mpg\",\"cylinders\",\"displacement\",\"horsepower\",\"weight\",\"acceleration\",\"model year\",\"origin\",\"car name\"])\n",
    "df"
   ]
  },
  {
   "cell_type": "code",
   "execution_count": 80,
   "id": "bba8afe5",
   "metadata": {
    "tags": []
   },
   "outputs": [
    {
     "data": {
      "text/html": [
       "<div>\n",
       "<style scoped>\n",
       "    .dataframe tbody tr th:only-of-type {\n",
       "        vertical-align: middle;\n",
       "    }\n",
       "\n",
       "    .dataframe tbody tr th {\n",
       "        vertical-align: top;\n",
       "    }\n",
       "\n",
       "    .dataframe thead th {\n",
       "        text-align: right;\n",
       "    }\n",
       "</style>\n",
       "<table border=\"1\" class=\"dataframe\">\n",
       "  <thead>\n",
       "    <tr style=\"text-align: right;\">\n",
       "      <th></th>\n",
       "      <th>mpg</th>\n",
       "      <th>cylinders</th>\n",
       "      <th>displacement</th>\n",
       "      <th>horsepower</th>\n",
       "      <th>weight</th>\n",
       "      <th>acceleration</th>\n",
       "      <th>model year</th>\n",
       "      <th>origin</th>\n",
       "      <th>car name</th>\n",
       "    </tr>\n",
       "  </thead>\n",
       "  <tbody>\n",
       "    <tr>\n",
       "      <th>38</th>\n",
       "      <td>25.0</td>\n",
       "      <td>4.0</td>\n",
       "      <td>98.0</td>\n",
       "      <td>NaN</td>\n",
       "      <td>2046.0</td>\n",
       "      <td>19.0</td>\n",
       "      <td>71.0</td>\n",
       "      <td>1.0</td>\n",
       "      <td>ford pinto</td>\n",
       "    </tr>\n",
       "    <tr>\n",
       "      <th>133</th>\n",
       "      <td>21.0</td>\n",
       "      <td>6.0</td>\n",
       "      <td>200.0</td>\n",
       "      <td>NaN</td>\n",
       "      <td>2875.0</td>\n",
       "      <td>17.0</td>\n",
       "      <td>74.0</td>\n",
       "      <td>1.0</td>\n",
       "      <td>ford maverick</td>\n",
       "    </tr>\n",
       "    <tr>\n",
       "      <th>337</th>\n",
       "      <td>40.9</td>\n",
       "      <td>4.0</td>\n",
       "      <td>85.0</td>\n",
       "      <td>NaN</td>\n",
       "      <td>1835.0</td>\n",
       "      <td>17.3</td>\n",
       "      <td>80.0</td>\n",
       "      <td>2.0</td>\n",
       "      <td>renault lecar deluxe</td>\n",
       "    </tr>\n",
       "    <tr>\n",
       "      <th>343</th>\n",
       "      <td>23.6</td>\n",
       "      <td>4.0</td>\n",
       "      <td>140.0</td>\n",
       "      <td>NaN</td>\n",
       "      <td>2905.0</td>\n",
       "      <td>14.3</td>\n",
       "      <td>80.0</td>\n",
       "      <td>1.0</td>\n",
       "      <td>ford mustang cobra</td>\n",
       "    </tr>\n",
       "    <tr>\n",
       "      <th>361</th>\n",
       "      <td>34.5</td>\n",
       "      <td>4.0</td>\n",
       "      <td>100.0</td>\n",
       "      <td>NaN</td>\n",
       "      <td>2320.0</td>\n",
       "      <td>15.8</td>\n",
       "      <td>81.0</td>\n",
       "      <td>2.0</td>\n",
       "      <td>renault 18i</td>\n",
       "    </tr>\n",
       "    <tr>\n",
       "      <th>382</th>\n",
       "      <td>23.0</td>\n",
       "      <td>4.0</td>\n",
       "      <td>151.0</td>\n",
       "      <td>NaN</td>\n",
       "      <td>3035.0</td>\n",
       "      <td>20.5</td>\n",
       "      <td>82.0</td>\n",
       "      <td>1.0</td>\n",
       "      <td>amc concord dl</td>\n",
       "    </tr>\n",
       "  </tbody>\n",
       "</table>\n",
       "</div>"
      ],
      "text/plain": [
       "      mpg  cylinders  displacement  horsepower  weight  acceleration  \\\n",
       "38   25.0        4.0          98.0         NaN  2046.0          19.0   \n",
       "133  21.0        6.0         200.0         NaN  2875.0          17.0   \n",
       "337  40.9        4.0          85.0         NaN  1835.0          17.3   \n",
       "343  23.6        4.0         140.0         NaN  2905.0          14.3   \n",
       "361  34.5        4.0         100.0         NaN  2320.0          15.8   \n",
       "382  23.0        4.0         151.0         NaN  3035.0          20.5   \n",
       "\n",
       "     model year  origin              car name  \n",
       "38         71.0     1.0            ford pinto  \n",
       "133        74.0     1.0         ford maverick  \n",
       "337        80.0     2.0  renault lecar deluxe  \n",
       "343        80.0     1.0    ford mustang cobra  \n",
       "361        81.0     2.0           renault 18i  \n",
       "382        82.0     1.0        amc concord dl  "
      ]
     },
     "execution_count": 80,
     "metadata": {},
     "output_type": "execute_result"
    }
   ],
   "source": [
    "#try to complete the column with regression later?\n",
    "df[df.horsepower.isna()]"
   ]
  },
  {
   "cell_type": "code",
   "execution_count": 81,
   "id": "cb1ff02c",
   "metadata": {
    "tags": []
   },
   "outputs": [
    {
     "data": {
      "text/html": [
       "<div>\n",
       "<style scoped>\n",
       "    .dataframe tbody tr th:only-of-type {\n",
       "        vertical-align: middle;\n",
       "    }\n",
       "\n",
       "    .dataframe tbody tr th {\n",
       "        vertical-align: top;\n",
       "    }\n",
       "\n",
       "    .dataframe thead th {\n",
       "        text-align: right;\n",
       "    }\n",
       "</style>\n",
       "<table border=\"1\" class=\"dataframe\">\n",
       "  <thead>\n",
       "    <tr style=\"text-align: right;\">\n",
       "      <th></th>\n",
       "      <th>mpg</th>\n",
       "      <th>cylinders</th>\n",
       "      <th>displacement</th>\n",
       "      <th>horsepower</th>\n",
       "      <th>weight</th>\n",
       "      <th>acceleration</th>\n",
       "      <th>model year</th>\n",
       "      <th>origin</th>\n",
       "      <th>car name</th>\n",
       "    </tr>\n",
       "  </thead>\n",
       "  <tbody>\n",
       "    <tr>\n",
       "      <th>0</th>\n",
       "      <td>18.0</td>\n",
       "      <td>8.0</td>\n",
       "      <td>307.0</td>\n",
       "      <td>130.0</td>\n",
       "      <td>3504.0</td>\n",
       "      <td>12.0</td>\n",
       "      <td>70.0</td>\n",
       "      <td>1.0</td>\n",
       "      <td>chevrolet chevelle malibu</td>\n",
       "    </tr>\n",
       "    <tr>\n",
       "      <th>1</th>\n",
       "      <td>15.0</td>\n",
       "      <td>8.0</td>\n",
       "      <td>350.0</td>\n",
       "      <td>165.0</td>\n",
       "      <td>3693.0</td>\n",
       "      <td>11.5</td>\n",
       "      <td>70.0</td>\n",
       "      <td>1.0</td>\n",
       "      <td>buick skylark 320</td>\n",
       "    </tr>\n",
       "    <tr>\n",
       "      <th>2</th>\n",
       "      <td>18.0</td>\n",
       "      <td>8.0</td>\n",
       "      <td>318.0</td>\n",
       "      <td>150.0</td>\n",
       "      <td>3436.0</td>\n",
       "      <td>11.0</td>\n",
       "      <td>70.0</td>\n",
       "      <td>1.0</td>\n",
       "      <td>plymouth satellite</td>\n",
       "    </tr>\n",
       "    <tr>\n",
       "      <th>3</th>\n",
       "      <td>16.0</td>\n",
       "      <td>8.0</td>\n",
       "      <td>304.0</td>\n",
       "      <td>150.0</td>\n",
       "      <td>3433.0</td>\n",
       "      <td>12.0</td>\n",
       "      <td>70.0</td>\n",
       "      <td>1.0</td>\n",
       "      <td>amc rebel sst</td>\n",
       "    </tr>\n",
       "    <tr>\n",
       "      <th>4</th>\n",
       "      <td>17.0</td>\n",
       "      <td>8.0</td>\n",
       "      <td>302.0</td>\n",
       "      <td>140.0</td>\n",
       "      <td>3449.0</td>\n",
       "      <td>10.5</td>\n",
       "      <td>70.0</td>\n",
       "      <td>1.0</td>\n",
       "      <td>ford torino</td>\n",
       "    </tr>\n",
       "    <tr>\n",
       "      <th>...</th>\n",
       "      <td>...</td>\n",
       "      <td>...</td>\n",
       "      <td>...</td>\n",
       "      <td>...</td>\n",
       "      <td>...</td>\n",
       "      <td>...</td>\n",
       "      <td>...</td>\n",
       "      <td>...</td>\n",
       "      <td>...</td>\n",
       "    </tr>\n",
       "    <tr>\n",
       "      <th>401</th>\n",
       "      <td>27.0</td>\n",
       "      <td>4.0</td>\n",
       "      <td>140.0</td>\n",
       "      <td>86.0</td>\n",
       "      <td>2790.0</td>\n",
       "      <td>15.6</td>\n",
       "      <td>82.0</td>\n",
       "      <td>1.0</td>\n",
       "      <td>ford mustang gl</td>\n",
       "    </tr>\n",
       "    <tr>\n",
       "      <th>402</th>\n",
       "      <td>44.0</td>\n",
       "      <td>4.0</td>\n",
       "      <td>97.0</td>\n",
       "      <td>52.0</td>\n",
       "      <td>2130.0</td>\n",
       "      <td>24.6</td>\n",
       "      <td>82.0</td>\n",
       "      <td>2.0</td>\n",
       "      <td>vw pickup</td>\n",
       "    </tr>\n",
       "    <tr>\n",
       "      <th>403</th>\n",
       "      <td>32.0</td>\n",
       "      <td>4.0</td>\n",
       "      <td>135.0</td>\n",
       "      <td>84.0</td>\n",
       "      <td>2295.0</td>\n",
       "      <td>11.6</td>\n",
       "      <td>82.0</td>\n",
       "      <td>1.0</td>\n",
       "      <td>dodge rampage</td>\n",
       "    </tr>\n",
       "    <tr>\n",
       "      <th>404</th>\n",
       "      <td>28.0</td>\n",
       "      <td>4.0</td>\n",
       "      <td>120.0</td>\n",
       "      <td>79.0</td>\n",
       "      <td>2625.0</td>\n",
       "      <td>18.6</td>\n",
       "      <td>82.0</td>\n",
       "      <td>1.0</td>\n",
       "      <td>ford ranger</td>\n",
       "    </tr>\n",
       "    <tr>\n",
       "      <th>405</th>\n",
       "      <td>31.0</td>\n",
       "      <td>4.0</td>\n",
       "      <td>119.0</td>\n",
       "      <td>82.0</td>\n",
       "      <td>2720.0</td>\n",
       "      <td>19.4</td>\n",
       "      <td>82.0</td>\n",
       "      <td>1.0</td>\n",
       "      <td>chevy s-10</td>\n",
       "    </tr>\n",
       "  </tbody>\n",
       "</table>\n",
       "<p>392 rows × 9 columns</p>\n",
       "</div>"
      ],
      "text/plain": [
       "      mpg  cylinders  displacement  horsepower  weight  acceleration  \\\n",
       "0    18.0        8.0         307.0       130.0  3504.0          12.0   \n",
       "1    15.0        8.0         350.0       165.0  3693.0          11.5   \n",
       "2    18.0        8.0         318.0       150.0  3436.0          11.0   \n",
       "3    16.0        8.0         304.0       150.0  3433.0          12.0   \n",
       "4    17.0        8.0         302.0       140.0  3449.0          10.5   \n",
       "..    ...        ...           ...         ...     ...           ...   \n",
       "401  27.0        4.0         140.0        86.0  2790.0          15.6   \n",
       "402  44.0        4.0          97.0        52.0  2130.0          24.6   \n",
       "403  32.0        4.0         135.0        84.0  2295.0          11.6   \n",
       "404  28.0        4.0         120.0        79.0  2625.0          18.6   \n",
       "405  31.0        4.0         119.0        82.0  2720.0          19.4   \n",
       "\n",
       "     model year  origin                   car name  \n",
       "0          70.0     1.0  chevrolet chevelle malibu  \n",
       "1          70.0     1.0          buick skylark 320  \n",
       "2          70.0     1.0         plymouth satellite  \n",
       "3          70.0     1.0              amc rebel sst  \n",
       "4          70.0     1.0                ford torino  \n",
       "..          ...     ...                        ...  \n",
       "401        82.0     1.0            ford mustang gl  \n",
       "402        82.0     2.0                  vw pickup  \n",
       "403        82.0     1.0              dodge rampage  \n",
       "404        82.0     1.0                ford ranger  \n",
       "405        82.0     1.0                 chevy s-10  \n",
       "\n",
       "[392 rows x 9 columns]"
      ]
     },
     "execution_count": 81,
     "metadata": {},
     "output_type": "execute_result"
    }
   ],
   "source": [
    "df1 = df[~df.isna().any(axis=1)]\n",
    "df1"
   ]
  },
  {
   "cell_type": "code",
   "execution_count": 82,
   "id": "c42f323a-777f-4162-89bb-5fa7965e97e7",
   "metadata": {
    "tags": []
   },
   "outputs": [],
   "source": [
    "from sklearn.preprocessing import normalize,PolynomialFeatures"
   ]
  },
  {
   "cell_type": "code",
   "execution_count": 89,
   "id": "a547e504",
   "metadata": {
    "tags": []
   },
   "outputs": [
    {
     "data": {
      "text/plain": [
       "array(['1', 'cylinders', 'displacement', 'horsepower', 'weight',\n",
       "       'acceleration', 'model year', 'origin', 'cylinders^2',\n",
       "       'cylinders displacement', 'cylinders horsepower',\n",
       "       'cylinders weight', 'cylinders acceleration',\n",
       "       'cylinders model year', 'cylinders origin', 'displacement^2',\n",
       "       'displacement horsepower', 'displacement weight',\n",
       "       'displacement acceleration', 'displacement model year',\n",
       "       'displacement origin', 'horsepower^2', 'horsepower weight',\n",
       "       'horsepower acceleration', 'horsepower model year',\n",
       "       'horsepower origin', 'weight^2', 'weight acceleration',\n",
       "       'weight model year', 'weight origin', 'acceleration^2',\n",
       "       'acceleration model year', 'acceleration origin', 'model year^2',\n",
       "       'model year origin', 'origin^2'], dtype=object)"
      ]
     },
     "execution_count": 89,
     "metadata": {},
     "output_type": "execute_result"
    }
   ],
   "source": [
    "columns = [\"cylinders\",\"displacement\",\"horsepower\",\"weight\",\"acceleration\",\"model year\",\"origin\"]\n",
    "X_0 = df1[columns]\n",
    "X_norm,norms = normalize(X_0,return_norm=True)\n",
    "\n",
    "poly = PolynomialFeatures(degree=2,interaction_only=False)\n",
    "X = poly.fit_transform(X_norm)\n",
    "columns_poly = poly.get_feature_names_out(columns)\n",
    "\n",
    "y = df1[[\"mpg\"]]\n",
    "columns_poly\n"
   ]
  },
  {
   "cell_type": "code",
   "execution_count": 90,
   "id": "58228a05",
   "metadata": {
    "tags": []
   },
   "outputs": [],
   "source": [
    "from sklearn.model_selection import cross_validate\n",
    "from sklearn.linear_model import LinearRegression"
   ]
  },
  {
   "cell_type": "code",
   "execution_count": 95,
   "id": "fbfd8d11",
   "metadata": {
    "tags": []
   },
   "outputs": [
    {
     "data": {
      "text/html": [
       "<div>\n",
       "<style scoped>\n",
       "    .dataframe tbody tr th:only-of-type {\n",
       "        vertical-align: middle;\n",
       "    }\n",
       "\n",
       "    .dataframe tbody tr th {\n",
       "        vertical-align: top;\n",
       "    }\n",
       "\n",
       "    .dataframe thead th {\n",
       "        text-align: right;\n",
       "    }\n",
       "</style>\n",
       "<table border=\"1\" class=\"dataframe\">\n",
       "  <thead>\n",
       "    <tr style=\"text-align: right;\">\n",
       "      <th></th>\n",
       "      <th>fit_time</th>\n",
       "      <th>score_time</th>\n",
       "      <th>test_max_error</th>\n",
       "      <th>train_max_error</th>\n",
       "      <th>test_r2</th>\n",
       "      <th>train_r2</th>\n",
       "      <th>test_explained_variance</th>\n",
       "      <th>train_explained_variance</th>\n",
       "      <th>test_neg_root_mean_squared_error</th>\n",
       "      <th>train_neg_root_mean_squared_error</th>\n",
       "    </tr>\n",
       "  </thead>\n",
       "  <tbody>\n",
       "    <tr>\n",
       "      <th>0</th>\n",
       "      <td>0.005337</td>\n",
       "      <td>0.007686</td>\n",
       "      <td>-424.0</td>\n",
       "      <td>-10.6</td>\n",
       "      <td>-41.136957</td>\n",
       "      <td>0.855570</td>\n",
       "      <td>-40.447869</td>\n",
       "      <td>0.855751</td>\n",
       "      <td>-37.367782</td>\n",
       "      <td>-2.898103</td>\n",
       "    </tr>\n",
       "    <tr>\n",
       "      <th>1</th>\n",
       "      <td>0.005078</td>\n",
       "      <td>0.007492</td>\n",
       "      <td>-11.0</td>\n",
       "      <td>-14.4</td>\n",
       "      <td>0.466586</td>\n",
       "      <td>0.729091</td>\n",
       "      <td>0.655673</td>\n",
       "      <td>0.796826</td>\n",
       "      <td>-4.681040</td>\n",
       "      <td>-4.337686</td>\n",
       "    </tr>\n",
       "    <tr>\n",
       "      <th>2</th>\n",
       "      <td>0.004255</td>\n",
       "      <td>0.011153</td>\n",
       "      <td>-19.4</td>\n",
       "      <td>-21.0</td>\n",
       "      <td>-0.113506</td>\n",
       "      <td>-0.548016</td>\n",
       "      <td>-0.053529</td>\n",
       "      <td>0.349108</td>\n",
       "      <td>-7.394515</td>\n",
       "      <td>-7.872042</td>\n",
       "    </tr>\n",
       "  </tbody>\n",
       "</table>\n",
       "</div>"
      ],
      "text/plain": [
       "   fit_time  score_time  test_max_error  train_max_error    test_r2  train_r2  \\\n",
       "0  0.005337    0.007686          -424.0            -10.6 -41.136957  0.855570   \n",
       "1  0.005078    0.007492           -11.0            -14.4   0.466586  0.729091   \n",
       "2  0.004255    0.011153           -19.4            -21.0  -0.113506 -0.548016   \n",
       "\n",
       "   test_explained_variance  train_explained_variance  \\\n",
       "0               -40.447869                  0.855751   \n",
       "1                 0.655673                  0.796826   \n",
       "2                -0.053529                  0.349108   \n",
       "\n",
       "   test_neg_root_mean_squared_error  train_neg_root_mean_squared_error  \n",
       "0                        -37.367782                          -2.898103  \n",
       "1                         -4.681040                          -4.337686  \n",
       "2                         -7.394515                          -7.872042  "
      ]
     },
     "execution_count": 95,
     "metadata": {},
     "output_type": "execute_result"
    }
   ],
   "source": [
    "folds=3\n",
    "\n",
    "lr = LinearRegression()\n",
    "cv_results = pd.DataFrame(cross_validate(lr,X,y,cv=folds,n_jobs=3,return_train_score=True,scoring=(\"max_error\",\"r2\",\"explained_variance\",\"neg_root_mean_squared_error\")))\n",
    "cv_results.head()"
   ]
  },
  {
   "cell_type": "code",
   "execution_count": 98,
   "id": "3009a6af",
   "metadata": {
    "tags": []
   },
   "outputs": [
    {
     "data": {
      "text/plain": [
       "-13.594625726906534"
      ]
     },
     "execution_count": 98,
     "metadata": {},
     "output_type": "execute_result"
    },
    {
     "data": {
      "image/png": "[encoded data removed]",
      "text/plain": [
       "<Figure size 640x480 with 1 Axes>"
      ]
     },
     "metadata": {},
     "output_type": "display_data"
    }
   ],
   "source": [
    "plt.boxplot(cv_results[\"test_r2\"]);\n",
    "(cv_results[\"test_r2\"]).mean()"
   ]
  },
  {
   "cell_type": "code",
   "execution_count": 150,
   "id": "17234255",
   "metadata": {
    "tags": []
   },
   "outputs": [],
   "source": [
    "from sklearn.linear_model import Ridge,Lasso,ElasticNet"
   ]
  },
  {
   "cell_type": "code",
   "execution_count": 100,
   "id": "83449273",
   "metadata": {
    "tags": []
   },
   "outputs": [],
   "source": [
    "folds = 3"
   ]
  },
  {
   "cell_type": "code",
   "execution_count": 101,
   "id": "9b6519d2",
   "metadata": {
    "tags": []
   },
   "outputs": [
    {
     "data": {
      "text/plain": [
       "array([1.00000000e-08, 2.04082612e-03, 4.08164224e-03, 6.12245837e-03,\n",
       "       8.16327449e-03, 1.02040906e-02, 1.22449067e-02, 1.42857229e-02,\n",
       "       1.63265390e-02, 1.83673551e-02, 2.04081712e-02, 2.24489873e-02,\n",
       "       2.44898035e-02, 2.65306196e-02, 2.85714357e-02, 3.06122518e-02,\n",
       "       3.26530680e-02, 3.46938841e-02, 3.67347002e-02, 3.87755163e-02,\n",
       "       4.08163324e-02, 4.28571486e-02, 4.48979647e-02, 4.69387808e-02,\n",
       "       4.89795969e-02, 5.10204131e-02, 5.30612292e-02, 5.51020453e-02,\n",
       "       5.71428614e-02, 5.91836776e-02, 6.12244937e-02, 6.32653098e-02,\n",
       "       6.53061259e-02, 6.73469420e-02, 6.93877582e-02, 7.14285743e-02,\n",
       "       7.34693904e-02, 7.55102065e-02, 7.75510227e-02, 7.95918388e-02,\n",
       "       8.16326549e-02, 8.36734710e-02, 8.57142871e-02, 8.77551033e-02,\n",
       "       8.97959194e-02, 9.18367355e-02, 9.38775516e-02, 9.59183678e-02,\n",
       "       9.79591839e-02, 1.00000000e-01])"
      ]
     },
     "execution_count": 101,
     "metadata": {},
     "output_type": "execute_result"
    }
   ],
   "source": [
    "import numpy as np\n",
    "alphas = np.linspace(0.00000001,0.1,50)\n",
    "alphas"
   ]
  },
  {
   "cell_type": "code",
   "execution_count": 102,
   "id": "dbc27aa2",
   "metadata": {
    "tags": []
   },
   "outputs": [
    {
     "name": "stderr",
     "output_type": "stream",
     "text": [
      "/home/rick/.local/lib/python3.10/site-packages/sklearn/linear_model/_coordinate_descent.py:634: ConvergenceWarning: Objective did not converge. You might want to increase the number of iterations, check the scale of the features or consider increasing regularisation. Duality gap: 1.237e+03, tolerance: 1.518e+00\n",
      "  model = cd_fast.enet_coordinate_descent(\n",
      "/home/rick/.local/lib/python3.10/site-packages/sklearn/linear_model/_coordinate_descent.py:634: ConvergenceWarning: Objective did not converge. You might want to increase the number of iterations, check the scale of the features or consider increasing regularisation. Duality gap: 5.096e+02, tolerance: 1.049e+00\n",
      "  model = cd_fast.enet_coordinate_descent(\n",
      "/home/rick/.local/lib/python3.10/site-packages/sklearn/linear_model/_coordinate_descent.py:634: ConvergenceWarning: Objective did not converge. You might want to increase the number of iterations, check the scale of the features or consider increasing regularisation. Duality gap: 1.280e+03, tolerance: 1.813e+00\n",
      "  model = cd_fast.enet_coordinate_descent(\n"
     ]
    },
    {
     "data": {
      "image/png": "[encoded data removed]",
      "text/plain": [
       "<Figure size 640x480 with 1 Axes>"
      ]
     },
     "metadata": {},
     "output_type": "display_data"
    }
   ],
   "source": [
    "rmse = []\n",
    "r2 = []\n",
    "for al in alphas:\n",
    "    la = Lasso(alpha=al)\n",
    "    cv = pd.DataFrame(cross_validate(la,X,y,cv=folds,n_jobs=3,return_train_score=True,scoring=(\"max_error\",\"r2\",\"explained_variance\",\"neg_root_mean_squared_error\")))\n",
    "    rmse.append(-cv[\"test_neg_root_mean_squared_error\"])\n",
    "    r2.append(cv[\"test_r2\"])\n",
    "plt.boxplot(r2);"
   ]
  },
  {
   "cell_type": "code",
   "execution_count": 107,
   "id": "e0acd2ee-a530-4bb7-ad9a-74aedc67a591",
   "metadata": {
    "tags": []
   },
   "outputs": [
    {
     "ename": "AttributeError",
     "evalue": "'Lasso' object has no attribute 'coef_'",
     "output_type": "error",
     "traceback": [
      "\u001b[0;31m---------------------------------------------------------------------------\u001b[0m",
      "\u001b[0;31mAttributeError\u001b[0m                            Traceback (most recent call last)",
      "Cell \u001b[0;32mIn[107], line 1\u001b[0m\n\u001b[0;32m----> 1\u001b[0m \u001b[43mla\u001b[49m\u001b[38;5;241;43m.\u001b[39;49m\u001b[43mcoef_\u001b[49m\n",
      "\u001b[0;31mAttributeError\u001b[0m: 'Lasso' object has no attribute 'coef_'"
     ]
    }
   ],
   "source": [
    "la.coef_"
   ]
  },
  {
   "cell_type": "code",
   "execution_count": 109,
   "id": "0aff4dd9",
   "metadata": {
    "tags": []
   },
   "outputs": [
    {
     "data": {
      "image/png": "[encoded data removed]",
      "text/plain": [
       "<Figure size 640x480 with 1 Axes>"
      ]
     },
     "metadata": {},
     "output_type": "display_data"
    }
   ],
   "source": [
    "r2 = []\n",
    "rmse = []\n",
    "for al in alphas:\n",
    "    ri = Ridge(alpha=al)\n",
    "    cv = pd.DataFrame(cross_validate(ri,X,y,cv=folds,n_jobs=3,return_train_score=True,scoring=(\"max_error\",\"r2\",\"explained_variance\",\"neg_root_mean_squared_error\")))\n",
    "    rmse.append(-cv[\"train_neg_root_mean_squared_error\"])\n",
    "    r2.append(cv[\"train_r2\"])\n",
    "plt.boxplot(rmse);"
   ]
  },
  {
   "cell_type": "code",
   "execution_count": 111,
   "id": "98874d35",
   "metadata": {
    "tags": []
   },
   "outputs": [
    {
     "name": "stdout",
     "output_type": "stream",
     "text": [
      "0.5270945900487579\n"
     ]
    },
    {
     "name": "stderr",
     "output_type": "stream",
     "text": [
      "/home/rick/.local/lib/python3.10/site-packages/sklearn/linear_model/_coordinate_descent.py:634: ConvergenceWarning: Objective did not converge. You might want to increase the number of iterations, check the scale of the features or consider increasing regularisation. Duality gap: 7.523e+01, tolerance: 1.813e+00\n",
      "  model = cd_fast.enet_coordinate_descent(\n",
      "/home/rick/.local/lib/python3.10/site-packages/sklearn/linear_model/_coordinate_descent.py:634: ConvergenceWarning: Objective did not converge. You might want to increase the number of iterations, check the scale of the features or consider increasing regularisation. Duality gap: 2.807e+00, tolerance: 1.049e+00\n",
      "  model = cd_fast.enet_coordinate_descent(\n",
      "/home/rick/.local/lib/python3.10/site-packages/sklearn/linear_model/_coordinate_descent.py:634: ConvergenceWarning: Objective did not converge. You might want to increase the number of iterations, check the scale of the features or consider increasing regularisation. Duality gap: 1.281e+02, tolerance: 1.518e+00\n",
      "  model = cd_fast.enet_coordinate_descent(\n"
     ]
    },
    {
     "data": {
      "image/png": "[encoded data removed]",
      "text/plain": [
       "<Figure size 640x480 with 1 Axes>"
      ]
     },
     "metadata": {},
     "output_type": "display_data"
    }
   ],
   "source": [
    "la = Lasso(alpha=0.00001)\n",
    "cv_la = pd.DataFrame(cross_validate(la,X,y,cv=folds,n_jobs=3,return_train_score=True,scoring=(\"max_error\",\"r2\",\"explained_variance\",\"neg_root_mean_squared_error\")))\n",
    "\n",
    "plt.boxplot(cv_la[\"test_r2\"]);\n",
    "print((cv_la[\"test_r2\"]).mean())"
   ]
  },
  {
   "cell_type": "code",
   "execution_count": 112,
   "id": "6d311962-ff42-42c5-a747-e9d64f95dcbc",
   "metadata": {
    "tags": []
   },
   "outputs": [
    {
     "data": {
      "text/html": [
       "<div>\n",
       "<style scoped>\n",
       "    .dataframe tbody tr th:only-of-type {\n",
       "        vertical-align: middle;\n",
       "    }\n",
       "\n",
       "    .dataframe tbody tr th {\n",
       "        vertical-align: top;\n",
       "    }\n",
       "\n",
       "    .dataframe thead th {\n",
       "        text-align: right;\n",
       "    }\n",
       "</style>\n",
       "<table border=\"1\" class=\"dataframe\">\n",
       "  <thead>\n",
       "    <tr style=\"text-align: right;\">\n",
       "      <th></th>\n",
       "      <th>fit_time</th>\n",
       "      <th>score_time</th>\n",
       "      <th>test_max_error</th>\n",
       "      <th>train_max_error</th>\n",
       "      <th>test_r2</th>\n",
       "      <th>train_r2</th>\n",
       "      <th>test_explained_variance</th>\n",
       "      <th>train_explained_variance</th>\n",
       "      <th>test_neg_root_mean_squared_error</th>\n",
       "      <th>train_neg_root_mean_squared_error</th>\n",
       "    </tr>\n",
       "  </thead>\n",
       "  <tbody>\n",
       "    <tr>\n",
       "      <th>0</th>\n",
       "      <td>0.018167</td>\n",
       "      <td>0.009750</td>\n",
       "      <td>-39.676942</td>\n",
       "      <td>-13.632338</td>\n",
       "      <td>0.366756</td>\n",
       "      <td>0.813829</td>\n",
       "      <td>0.473007</td>\n",
       "      <td>0.813829</td>\n",
       "      <td>-4.580905</td>\n",
       "      <td>-3.290346</td>\n",
       "    </tr>\n",
       "    <tr>\n",
       "      <th>1</th>\n",
       "      <td>0.015088</td>\n",
       "      <td>0.007222</td>\n",
       "      <td>-8.761417</td>\n",
       "      <td>-13.885764</td>\n",
       "      <td>0.792713</td>\n",
       "      <td>0.841986</td>\n",
       "      <td>0.845678</td>\n",
       "      <td>0.841986</td>\n",
       "      <td>-2.918071</td>\n",
       "      <td>-3.312798</td>\n",
       "    </tr>\n",
       "    <tr>\n",
       "      <th>2</th>\n",
       "      <td>0.014349</td>\n",
       "      <td>0.007036</td>\n",
       "      <td>-17.374465</td>\n",
       "      <td>-11.573934</td>\n",
       "      <td>0.421814</td>\n",
       "      <td>0.886071</td>\n",
       "      <td>0.667820</td>\n",
       "      <td>0.886071</td>\n",
       "      <td>-5.328402</td>\n",
       "      <td>-2.135585</td>\n",
       "    </tr>\n",
       "  </tbody>\n",
       "</table>\n",
       "</div>"
      ],
      "text/plain": [
       "   fit_time  score_time  test_max_error  train_max_error   test_r2  train_r2  \\\n",
       "0  0.018167    0.009750      -39.676942       -13.632338  0.366756  0.813829   \n",
       "1  0.015088    0.007222       -8.761417       -13.885764  0.792713  0.841986   \n",
       "2  0.014349    0.007036      -17.374465       -11.573934  0.421814  0.886071   \n",
       "\n",
       "   test_explained_variance  train_explained_variance  \\\n",
       "0                 0.473007                  0.813829   \n",
       "1                 0.845678                  0.841986   \n",
       "2                 0.667820                  0.886071   \n",
       "\n",
       "   test_neg_root_mean_squared_error  train_neg_root_mean_squared_error  \n",
       "0                         -4.580905                          -3.290346  \n",
       "1                         -2.918071                          -3.312798  \n",
       "2                         -5.328402                          -2.135585  "
      ]
     },
     "execution_count": 112,
     "metadata": {},
     "output_type": "execute_result"
    }
   ],
   "source": [
    "cv_la"
   ]
  },
  {
   "cell_type": "code",
   "execution_count": 113,
   "id": "2bce8cfb",
   "metadata": {
    "tags": []
   },
   "outputs": [],
   "source": [
    "from sklearn.model_selection import train_test_split\n",
    "from sklearn.metrics import mean_squared_error,r2_score"
   ]
  },
  {
   "cell_type": "code",
   "execution_count": 114,
   "id": "1799f862",
   "metadata": {
    "tags": []
   },
   "outputs": [],
   "source": [
    "X_train, X_test, y_train, y_test = train_test_split(\n",
    "    X, y, test_size=0.33, random_state=9)"
   ]
  },
  {
   "cell_type": "code",
   "execution_count": 139,
   "id": "c6172a1c",
   "metadata": {
    "tags": []
   },
   "outputs": [
    {
     "data": {
      "text/plain": [
       "array([1.00000000e-11, 2.04081642e-04, 4.08163275e-04, 6.12244907e-04,\n",
       "       8.16326540e-04, 1.02040817e-03, 1.22448980e-03, 1.42857144e-03,\n",
       "       1.63265307e-03, 1.83673470e-03, 2.04081633e-03, 2.24489797e-03,\n",
       "       2.44897960e-03, 2.65306123e-03, 2.85714286e-03, 3.06122450e-03,\n",
       "       3.26530613e-03, 3.46938776e-03, 3.67346939e-03, 3.87755103e-03,\n",
       "       4.08163266e-03, 4.28571429e-03, 4.48979592e-03, 4.69387756e-03,\n",
       "       4.89795919e-03, 5.10204082e-03, 5.30612245e-03, 5.51020409e-03,\n",
       "       5.71428572e-03, 5.91836735e-03, 6.12244898e-03, 6.32653062e-03,\n",
       "       6.53061225e-03, 6.73469388e-03, 6.93877551e-03, 7.14285715e-03,\n",
       "       7.34693878e-03, 7.55102041e-03, 7.75510204e-03, 7.95918368e-03,\n",
       "       8.16326531e-03, 8.36734694e-03, 8.57142857e-03, 8.77551021e-03,\n",
       "       8.97959184e-03, 9.18367347e-03, 9.38775510e-03, 9.59183674e-03,\n",
       "       9.79591837e-03, 1.00000000e-02])"
      ]
     },
     "execution_count": 139,
     "metadata": {},
     "output_type": "execute_result"
    }
   ],
   "source": [
    "alphas = np.linspace(0.00000000001,0.01,50)\n",
    "alphas"
   ]
  },
  {
   "cell_type": "code",
   "execution_count": 140,
   "id": "e6c7fa55",
   "metadata": {
    "tags": []
   },
   "outputs": [
    {
     "name": "stderr",
     "output_type": "stream",
     "text": [
      "/home/rick/.local/lib/python3.10/site-packages/sklearn/linear_model/_coordinate_descent.py:634: ConvergenceWarning: Objective did not converge. You might want to increase the number of iterations, check the scale of the features or consider increasing regularisation. Duality gap: 1.212e+03, tolerance: 1.597e+00\n",
      "  model = cd_fast.enet_coordinate_descent(\n"
     ]
    },
    {
     "data": {
      "text/plain": [
       "<matplotlib.legend.Legend at 0x7fa214783430>"
      ]
     },
     "execution_count": 140,
     "metadata": {},
     "output_type": "execute_result"
    },
    {
     "data": {
      "image/png": "[encoded data removed]",
      "text/plain": [
       "<Figure size 640x480 with 2 Axes>"
      ]
     },
     "metadata": {},
     "output_type": "display_data"
    }
   ],
   "source": [
    "lr = LinearRegression()\n",
    "lr.fit(X_train,y_train)\n",
    "lr_beta_size_1 = np.sum(np.abs(np.concatenate((lr.coef_[0],lr.intercept_))))\n",
    "\n",
    "train_mse = []\n",
    "test_mse = []\n",
    "train_r2 = []\n",
    "test_r2 = []\n",
    "betas = []\n",
    "\n",
    "for al in alphas:\n",
    "    la = Lasso(alpha=al)\n",
    "    la.fit(X_train,y_train)\n",
    "    \n",
    "    y_test_pred = la.predict(X_test)\n",
    "    y_train_pred= la.predict(X_train)\n",
    "    \n",
    "    train_r2.append(r2_score(y_train, y_train_pred))\n",
    "    test_r2.append(r2_score(y_test, y_test_pred))\n",
    "    \n",
    "    train_mse.append(mean_squared_error(y_train, y_train_pred))\n",
    "    test_mse.append(mean_squared_error(y_test, y_test_pred))\n",
    "    betas.append(np.sum(np.abs(np.concatenate((la.coef_,la.intercept_))))/lr_beta_size_1)\n",
    "    \n",
    "results = pd.DataFrame({\"train_r2\":train_r2,\"test_r2\":test_r2,\"test_mse\":test_mse,\"train_mse\":train_mse,\"alpha\":alphas,\"betas\":betas})\n",
    "fig, ax = plt.subplots(2)\n",
    "ax[0].set_title(\"r2\")\n",
    "ax[0].plot(results[\"alpha\"],results[\"test_r2\"],label=\"test\",color='blue');\n",
    "ax[0].plot(results[\"alpha\"],results[\"train_r2\"],label=\"train\",color='red');\n",
    "ax[1].set_title(\"mse\")\n",
    "ax[1].plot(results[\"alpha\"],results[\"test_mse\"],label=\"test\",color='blue');\n",
    "ax[1].plot(results[\"alpha\"],results[\"train_mse\"],label=\"train\",color='red');\n",
    "ax[0].legend()"
   ]
  },
  {
   "cell_type": "code",
   "execution_count": 141,
   "id": "acc72fc7-9d32-46d4-920c-4e7d1e69b64f",
   "metadata": {
    "tags": []
   },
   "outputs": [
    {
     "data": {
      "text/plain": [
       "36"
      ]
     },
     "execution_count": 141,
     "metadata": {},
     "output_type": "execute_result"
    }
   ],
   "source": [
    "len(la.coef_)"
   ]
  },
  {
   "cell_type": "code",
   "execution_count": 142,
   "id": "ba08bb91",
   "metadata": {
    "tags": []
   },
   "outputs": [
    {
     "data": {
      "text/html": [
       "<div>\n",
       "<style scoped>\n",
       "    .dataframe tbody tr th:only-of-type {\n",
       "        vertical-align: middle;\n",
       "    }\n",
       "\n",
       "    .dataframe tbody tr th {\n",
       "        vertical-align: top;\n",
       "    }\n",
       "\n",
       "    .dataframe thead th {\n",
       "        text-align: right;\n",
       "    }\n",
       "</style>\n",
       "<table border=\"1\" class=\"dataframe\">\n",
       "  <thead>\n",
       "    <tr style=\"text-align: right;\">\n",
       "      <th></th>\n",
       "      <th>train_r2</th>\n",
       "      <th>test_r2</th>\n",
       "      <th>test_mse</th>\n",
       "      <th>train_mse</th>\n",
       "      <th>alpha</th>\n",
       "      <th>betas</th>\n",
       "    </tr>\n",
       "  </thead>\n",
       "  <tbody>\n",
       "    <tr>\n",
       "      <th>22</th>\n",
       "      <td>0.783777</td>\n",
       "      <td>0.85554</td>\n",
       "      <td>8.715466</td>\n",
       "      <td>13.181507</td>\n",
       "      <td>0.00449</td>\n",
       "      <td>5.715551e-14</td>\n",
       "    </tr>\n",
       "  </tbody>\n",
       "</table>\n",
       "</div>"
      ],
      "text/plain": [
       "    train_r2  test_r2  test_mse  train_mse    alpha         betas\n",
       "22  0.783777  0.85554  8.715466  13.181507  0.00449  5.715551e-14"
      ]
     },
     "execution_count": 142,
     "metadata": {},
     "output_type": "execute_result"
    },
    {
     "data": {
      "image/png": "[encoded data removed]",
      "text/plain": [
       "<Figure size 640x480 with 1 Axes>"
      ]
     },
     "metadata": {},
     "output_type": "display_data"
    }
   ],
   "source": [
    "aux = \"test_r2\" #'test_mse'\n",
    "plt.boxplot(results[aux]);\n",
    "results[results[aux] == results[aux].max()]"
   ]
  },
  {
   "cell_type": "code",
   "execution_count": 143,
   "id": "e696ade0",
   "metadata": {
    "tags": []
   },
   "outputs": [
    {
     "name": "stdout",
     "output_type": "stream",
     "text": [
      "coef de 1:0.0 \n",
      "coef de cylinders:-0.0 \n",
      "coef de displacement:-54.30272951633326 \n",
      "coef de horsepower:-12.958807046972163 \n",
      "coef de weight:0.0 \n",
      "coef de acceleration:0.0 \n",
      "coef de model year:710.9332863208166 \n",
      "coef de origin:0.0 \n",
      "coef de cylinders^2:-0.0 \n",
      "coef de cylinders displacement:-0.0 \n",
      "coef de cylinders horsepower:-0.0 \n",
      "coef de cylinders weight:-0.0 \n",
      "coef de cylinders acceleration:0.0 \n",
      "coef de cylinders model year:0.0 \n",
      "coef de cylinders origin:0.0 \n",
      "coef de displacement^2:-0.0 \n",
      "coef de displacement horsepower:-0.0 \n",
      "coef de displacement weight:-0.0 \n",
      "coef de displacement acceleration:0.0 \n",
      "coef de displacement model year:0.0 \n",
      "coef de displacement origin:0.0 \n",
      "coef de horsepower^2:-0.0 \n",
      "coef de horsepower weight:-0.0 \n",
      "coef de horsepower acceleration:-0.0 \n",
      "coef de horsepower model year:0.0 \n",
      "coef de horsepower origin:0.0 \n",
      "coef de weight^2:0.0 \n",
      "coef de weight acceleration:0.0 \n",
      "coef de weight model year:0.0 \n",
      "coef de weight origin:0.0 \n",
      "coef de acceleration^2:0.0 \n",
      "coef de acceleration model year:0.0 \n",
      "coef de acceleration origin:0.0 \n",
      "coef de model year^2:0.0 \n",
      "coef de model year origin:0.0 \n",
      "coef de origin^2:0.0 \n"
     ]
    }
   ],
   "source": [
    "#origin é 1. American, 2. European, 3. Japanese\n",
    "la = Lasso(alpha=0.00449)\n",
    "la.fit(X,y)\n",
    "for i in range(len(columns_poly)):\n",
    "    print(f\"coef de {list(columns_poly)[i]}:{la.coef_[i]} \")"
   ]
  },
  {
   "cell_type": "code",
   "execution_count": 144,
   "id": "e4be14c1-832f-415b-bea4-c1dcda41e057",
   "metadata": {
    "tags": []
   },
   "outputs": [
    {
     "data": {
      "text/plain": [
       "array([7.58832355])"
      ]
     },
     "execution_count": 144,
     "metadata": {},
     "output_type": "execute_result"
    }
   ],
   "source": [
    "la.intercept_"
   ]
  },
  {
   "cell_type": "code",
   "execution_count": 145,
   "id": "9ebf81ee-ec4c-4e75-945c-0681fbb871d7",
   "metadata": {
    "tags": []
   },
   "outputs": [
    {
     "data": {
      "text/plain": [
       "<matplotlib.legend.Legend at 0x7fa20be1fbb0>"
      ]
     },
     "execution_count": 145,
     "metadata": {},
     "output_type": "execute_result"
    },
    {
     "data": {
      "image/png": "[encoded data removed]",
      "text/plain": [
       "<Figure size 640x480 with 2 Axes>"
      ]
     },
     "metadata": {},
     "output_type": "display_data"
    }
   ],
   "source": [
    "lr = LinearRegression()\n",
    "lr.fit(X_train,y_train)\n",
    "lr_beta_size_2 = np.sum(np.square(np.concatenate((lr.coef_[0],lr.intercept_))))\n",
    "\n",
    "train_mse = []\n",
    "test_mse = []\n",
    "train_r2 = []\n",
    "test_r2 = []\n",
    "betas = []\n",
    "\n",
    "for al in alphas:\n",
    "    la = Ridge(alpha=al)\n",
    "    la.fit(X_train,y_train)\n",
    "    \n",
    "    y_test_pred = la.predict(X_test)\n",
    "    y_train_pred= la.predict(X_train)\n",
    "    \n",
    "    train_r2.append(r2_score(y_train, y_train_pred))\n",
    "    test_r2.append(r2_score(y_test, y_test_pred))\n",
    "    \n",
    "    train_mse.append(mean_squared_error(y_train, y_train_pred))\n",
    "    test_mse.append(mean_squared_error(y_test, y_test_pred))\n",
    "    betas.append(np.sum(np.square(np.concatenate((la.coef_[0],la.intercept_))))/lr_beta_size_2)\n",
    "    \n",
    "results = pd.DataFrame({\"train_r2\":train_r2,\"test_r2\":test_r2,\"test_mse\":test_mse,\"train_mse\":train_mse,\"alpha\":alphas,\"betas\":betas})\n",
    "fig, ax = plt.subplots(2)\n",
    "ax[0].set_title(\"r2\")\n",
    "ax[0].plot(results[\"alpha\"],results[\"test_r2\"],label=\"test\",color='blue');\n",
    "ax[0].plot(results[\"alpha\"],results[\"train_r2\"],label=\"train\",color='red');\n",
    "ax[1].set_title(\"mse\")\n",
    "ax[1].plot(results[\"alpha\"],results[\"test_mse\"],label=\"test\",color='blue');\n",
    "ax[1].plot(results[\"alpha\"],results[\"train_mse\"],label=\"train\",color='red');\n",
    "ax[0].legend()"
   ]
  },
  {
   "cell_type": "code",
   "execution_count": 148,
   "id": "5fac1264-6f1d-4396-b5d0-faf6a558a61f",
   "metadata": {
    "tags": []
   },
   "outputs": [
    {
     "data": {
      "text/html": [
       "<div>\n",
       "<style scoped>\n",
       "    .dataframe tbody tr th:only-of-type {\n",
       "        vertical-align: middle;\n",
       "    }\n",
       "\n",
       "    .dataframe tbody tr th {\n",
       "        vertical-align: top;\n",
       "    }\n",
       "\n",
       "    .dataframe thead th {\n",
       "        text-align: right;\n",
       "    }\n",
       "</style>\n",
       "<table border=\"1\" class=\"dataframe\">\n",
       "  <thead>\n",
       "    <tr style=\"text-align: right;\">\n",
       "      <th></th>\n",
       "      <th>train_r2</th>\n",
       "      <th>test_r2</th>\n",
       "      <th>test_mse</th>\n",
       "      <th>train_mse</th>\n",
       "      <th>alpha</th>\n",
       "      <th>betas</th>\n",
       "    </tr>\n",
       "  </thead>\n",
       "  <tbody>\n",
       "    <tr>\n",
       "      <th>1</th>\n",
       "      <td>0.808013</td>\n",
       "      <td>0.85058</td>\n",
       "      <td>9.014758</td>\n",
       "      <td>11.703995</td>\n",
       "      <td>0.000204</td>\n",
       "      <td>7.424993e-27</td>\n",
       "    </tr>\n",
       "  </tbody>\n",
       "</table>\n",
       "</div>"
      ],
      "text/plain": [
       "   train_r2  test_r2  test_mse  train_mse     alpha         betas\n",
       "1  0.808013  0.85058  9.014758  11.703995  0.000204  7.424993e-27"
      ]
     },
     "execution_count": 148,
     "metadata": {},
     "output_type": "execute_result"
    },
    {
     "data": {
      "image/png": "[encoded data removed]",
      "text/plain": [
       "<Figure size 640x480 with 1 Axes>"
      ]
     },
     "metadata": {},
     "output_type": "display_data"
    }
   ],
   "source": [
    "aux = \"test_r2\" #'test_mse'\n",
    "plt.boxplot(results[aux]);\n",
    "results[results[aux] == results[aux].max()]"
   ]
  },
  {
   "cell_type": "code",
   "execution_count": 146,
   "id": "a9aee4b3",
   "metadata": {
    "tags": []
   },
   "outputs": [
    {
     "data": {
      "text/plain": [
       "array([32.38883979])"
      ]
     },
     "execution_count": 146,
     "metadata": {},
     "output_type": "execute_result"
    }
   ],
   "source": [
    "la.intercept_"
   ]
  },
  {
   "cell_type": "code",
   "execution_count": 149,
   "id": "67443108-6662-4993-bc59-c5cc7e439398",
   "metadata": {
    "tags": []
   },
   "outputs": [
    {
     "name": "stdout",
     "output_type": "stream",
     "text": [
      "coef de 1:0.0 \n",
      "coef de cylinders:-129.66295063110147 \n",
      "coef de displacement:-23.690170337386263 \n",
      "coef de horsepower:-125.97565566420863 \n",
      "coef de weight:-109.35599565388766 \n",
      "coef de acceleration:-319.0214504034733 \n",
      "coef de model year:478.66054220192274 \n",
      "coef de origin:40.85103653010609 \n",
      "coef de cylinders^2:-0.5108882254316534 \n",
      "coef de cylinders displacement:-7.507948677067782 \n",
      "coef de cylinders horsepower:-3.4106527141656673 \n",
      "coef de cylinders weight:-129.52679763793003 \n",
      "coef de cylinders acceleration:-1.7355932273274666 \n",
      "coef de cylinders model year:-3.968939106830918 \n",
      "coef de cylinders origin:-0.03422048759678164 \n",
      "coef de displacement^2:151.3182662510891 \n",
      "coef de displacement horsepower:158.93183266886976 \n",
      "coef de displacement weight:-49.4475315538146 \n",
      "coef de displacement acceleration:-41.57264806266482 \n",
      "coef de displacement model year:-10.691379831172794 \n",
      "coef de displacement origin:2.3676762037329064 \n",
      "coef de horsepower^2:48.90458107428586 \n",
      "coef de horsepower weight:-140.80635049857295 \n",
      "coef de horsepower acceleration:-27.68739418804722 \n",
      "coef de horsepower model year:-29.256194325258356 \n",
      "coef de horsepower origin:-0.7940628919023198 \n",
      "coef de weight^2:-216.2522478238735 \n",
      "coef de weight acceleration:-316.63724751875054 \n",
      "coef de weight model year:479.5387581145298 \n",
      "coef de weight origin:40.833995539876504 \n",
      "coef de acceleration^2:-2.5470808772493165 \n",
      "coef de acceleration model year:-5.814322383119857 \n",
      "coef de acceleration origin:0.04421710844646294 \n",
      "coef de model year^2:19.073095870669608 \n",
      "coef de model year origin:0.5800381825486797 \n",
      "coef de origin^2:0.014273730510055952 \n"
     ]
    }
   ],
   "source": [
    "#origin é 1. American, 2. European, 3. Japanese\n",
    "la = Ridge(alpha=0.000204)\n",
    "la.fit(X,y)\n",
    "for i in range(len(columns_poly)):\n",
    "    print(f\"coef de {list(columns_poly)[i]}:{la.coef_[0][i]} \")"
   ]
  },
  {
   "cell_type": "code",
   "execution_count": 164,
   "id": "fe5ce87b-53ad-4f34-a6d6-d4a20dcd8708",
   "metadata": {
    "tags": []
   },
   "outputs": [
    {
     "name": "stderr",
     "output_type": "stream",
     "text": [
      "/home/rick/.local/lib/python3.10/site-packages/sklearn/linear_model/_coordinate_descent.py:634: ConvergenceWarning: Objective did not converge. You might want to increase the number of iterations, check the scale of the features or consider increasing regularisation. Duality gap: 1.207e+03, tolerance: 1.597e+00\n",
      "  model = cd_fast.enet_coordinate_descent(\n",
      "/home/rick/.local/lib/python3.10/site-packages/sklearn/linear_model/_coordinate_descent.py:634: ConvergenceWarning: Objective did not converge. You might want to increase the number of iterations, check the scale of the features or consider increasing regularisation. Duality gap: 1.263e+03, tolerance: 1.597e+00\n",
      "  model = cd_fast.enet_coordinate_descent(\n",
      "/home/rick/.local/lib/python3.10/site-packages/sklearn/linear_model/_coordinate_descent.py:634: ConvergenceWarning: Objective did not converge. You might want to increase the number of iterations, check the scale of the features or consider increasing regularisation. Duality gap: 8.782e+01, tolerance: 1.597e+00\n",
      "  model = cd_fast.enet_coordinate_descent(\n",
      "/home/rick/.local/lib/python3.10/site-packages/sklearn/linear_model/_coordinate_descent.py:634: ConvergenceWarning: Objective did not converge. You might want to increase the number of iterations, check the scale of the features or consider increasing regularisation. Duality gap: 3.137e+00, tolerance: 1.597e+00\n",
      "  model = cd_fast.enet_coordinate_descent(\n"
     ]
    },
    {
     "data": {
      "image/png": "[encoded data removed]",
      "text/plain": [
       "<Figure size 640x480 with 2 Axes>"
      ]
     },
     "metadata": {},
     "output_type": "display_data"
    }
   ],
   "source": [
    "lr = LinearRegression()\n",
    "lr.fit(X_train,y_train)\n",
    "lr_beta_size_2 = np.sum(np.square(np.concatenate((lr.coef_[0],lr.intercept_))))\n",
    "\n",
    "l1=0.9\n",
    "train_mse = []\n",
    "test_mse = []\n",
    "train_r2 = []\n",
    "test_r2 = []\n",
    "betas = []\n",
    "\n",
    "alphas = np.linspace(0.0000000000001,0.0001,50)\n",
    "alphas\n",
    "\n",
    "for al in alphas:\n",
    "    la = ElasticNet(alpha=al,l1_ratio=l1)\n",
    "    la.fit(X_train,y_train)\n",
    "    \n",
    "    y_test_pred = la.predict(X_test)\n",
    "    y_train_pred= la.predict(X_train)\n",
    "    \n",
    "    train_r2.append(r2_score(y_train, y_train_pred))\n",
    "    test_r2.append(r2_score(y_test, y_test_pred))\n",
    "    \n",
    "    train_mse.append(mean_squared_error(y_train, y_train_pred))\n",
    "    test_mse.append(mean_squared_error(y_test, y_test_pred))\n",
    "    betas.append(np.sum(np.square(np.concatenate((la.coef_,la.intercept_))))/lr_beta_size_2)\n",
    "    \n",
    "results = pd.DataFrame({\"train_r2\":train_r2,\"test_r2\":test_r2,\"test_mse\":test_mse,\"train_mse\":train_mse,\"alpha\":alphas,\"betas\":betas})\n",
    "fig, ax = plt.subplots(2)\n",
    "ax[0].set_title(\"r2\")\n",
    "ax[0].plot(results[\"alpha\"],results[\"test_r2\"],label=\"test\",color='blue');\n",
    "ax[0].plot(results[\"alpha\"],results[\"train_r2\"],label=\"train\",color='red');\n",
    "ax[1].set_title(\"mse\")\n",
    "ax[1].plot(results[\"alpha\"],results[\"test_mse\"],label=\"test\",color='blue');\n",
    "ax[1].plot(results[\"alpha\"],results[\"train_mse\"],label=\"train\",color='red');\n",
    "ax[0].legend();"
   ]
  },
  {
   "cell_type": "code",
   "execution_count": 165,
   "id": "18e9979a-4b18-4d48-b889-d4f8631c3714",
   "metadata": {
    "tags": []
   },
   "outputs": [
    {
     "data": {
      "text/html": [
       "<div>\n",
       "<style scoped>\n",
       "    .dataframe tbody tr th:only-of-type {\n",
       "        vertical-align: middle;\n",
       "    }\n",
       "\n",
       "    .dataframe tbody tr th {\n",
       "        vertical-align: top;\n",
       "    }\n",
       "\n",
       "    .dataframe thead th {\n",
       "        text-align: right;\n",
       "    }\n",
       "</style>\n",
       "<table border=\"1\" class=\"dataframe\">\n",
       "  <thead>\n",
       "    <tr style=\"text-align: right;\">\n",
       "      <th></th>\n",
       "      <th>train_r2</th>\n",
       "      <th>test_r2</th>\n",
       "      <th>test_mse</th>\n",
       "      <th>train_mse</th>\n",
       "      <th>alpha</th>\n",
       "      <th>betas</th>\n",
       "    </tr>\n",
       "  </thead>\n",
       "  <tbody>\n",
       "    <tr>\n",
       "      <th>1</th>\n",
       "      <td>0.813919</td>\n",
       "      <td>0.85468</td>\n",
       "      <td>8.767363</td>\n",
       "      <td>11.343948</td>\n",
       "      <td>0.000002</td>\n",
       "      <td>2.089959e-26</td>\n",
       "    </tr>\n",
       "  </tbody>\n",
       "</table>\n",
       "</div>"
      ],
      "text/plain": [
       "   train_r2  test_r2  test_mse  train_mse     alpha         betas\n",
       "1  0.813919  0.85468  8.767363  11.343948  0.000002  2.089959e-26"
      ]
     },
     "execution_count": 165,
     "metadata": {},
     "output_type": "execute_result"
    },
    {
     "data": {
      "image/png": "[encoded data removed]",
      "text/plain": [
       "<Figure size 640x480 with 1 Axes>"
      ]
     },
     "metadata": {},
     "output_type": "display_data"
    }
   ],
   "source": [
    "aux = \"test_r2\" #'test_mse'\n",
    "plt.boxplot(results[aux]);\n",
    "results[results[aux] == results[aux].max()]"
   ]
  },
  {
   "cell_type": "code",
   "execution_count": 166,
   "id": "44156a91-ec7e-48ad-b0aa-930d1be48ff2",
   "metadata": {
    "tags": []
   },
   "outputs": [
    {
     "name": "stdout",
     "output_type": "stream",
     "text": [
      "coef de 1:0.0 \n",
      "coef de cylinders:-268.92141130089493 \n",
      "coef de displacement:-74.69684524361293 \n",
      "coef de horsepower:-154.84544358483606 \n",
      "coef de weight:-168.85389577060943 \n",
      "coef de acceleration:-432.61891076447984 \n",
      "coef de model year:527.4668201396224 \n",
      "coef de origin:75.52537168054556 \n",
      "coef de cylinders^2:-0.0 \n",
      "coef de cylinders displacement:-8.770688545678569 \n",
      "coef de cylinders horsepower:-0.0 \n",
      "coef de cylinders weight:-268.9467285380652 \n",
      "coef de cylinders acceleration:-0.0 \n",
      "coef de cylinders model year:-0.8488130355504351 \n",
      "coef de cylinders origin:-0.0 \n",
      "coef de displacement^2:215.67373410983322 \n",
      "coef de displacement horsepower:349.50977546180246 \n",
      "coef de displacement weight:-33.442644710999794 \n",
      "coef de displacement acceleration:-75.91073083208735 \n",
      "coef de displacement model year:-48.95084729392867 \n",
      "coef de displacement origin:0.0 \n",
      "coef de horsepower^2:111.47972844083044 \n",
      "coef de horsepower weight:-170.70505893845962 \n",
      "coef de horsepower acceleration:-47.81005611959367 \n",
      "coef de horsepower model year:-85.41449402094204 \n",
      "coef de horsepower origin:-0.0 \n",
      "coef de weight^2:-355.1920354414992 \n",
      "coef de weight acceleration:-435.09021646444256 \n",
      "coef de weight model year:480.6017314896535 \n",
      "coef de weight origin:73.03170729403799 \n",
      "coef de acceleration^2:-0.0 \n",
      "coef de acceleration model year:-0.0 \n",
      "coef de acceleration origin:0.0 \n",
      "coef de model year^2:0.0 \n",
      "coef de model year origin:0.0 \n",
      "coef de origin^2:0.0 \n"
     ]
    },
    {
     "name": "stderr",
     "output_type": "stream",
     "text": [
      "/home/rick/.local/lib/python3.10/site-packages/sklearn/linear_model/_coordinate_descent.py:634: ConvergenceWarning: Objective did not converge. You might want to increase the number of iterations, check the scale of the features or consider increasing regularisation. Duality gap: 1.734e+03, tolerance: 2.382e+00\n",
      "  model = cd_fast.enet_coordinate_descent(\n"
     ]
    }
   ],
   "source": [
    "la = ElasticNet(alpha=0.000002,l1_ratio=l1)\n",
    "la.fit(X,y)\n",
    "for i in range(len(columns_poly)):\n",
    "    print(f\"coef de {list(columns_poly)[i]}:{la.coef_[i]} \")"
   ]
  },
  {
   "cell_type": "code",
   "execution_count": 167,
   "id": "76abfec6-756b-4206-ab61-83686ff64d59",
   "metadata": {
    "tags": []
   },
   "outputs": [
    {
     "name": "stdout",
     "output_type": "stream",
     "text": [
      "train_r2: 0.8569808536453367\n",
      "test_r2: -5.9955805031429446\n",
      "train_mse: 8.71881679389313\n",
      "test_mse: 422.053923076923\n"
     ]
    }
   ],
   "source": [
    "lr = LinearRegression()\n",
    "lr.fit(X_train,y_train)\n",
    "y_test_pred = lr.predict(X_test)\n",
    "y_train_pred = lr.predict(X_train)\n",
    "\n",
    "train_r2 = (r2_score(y_train, y_train_pred))\n",
    "test_r2 =(r2_score(y_test, y_test_pred))\n",
    "\n",
    "train_mse=(mean_squared_error(y_train, y_train_pred))\n",
    "test_mse= (mean_squared_error(y_test, y_test_pred))\n",
    "print(\"train_r2:\",train_r2)\n",
    "print(\"test_r2:\",test_r2)\n",
    "print(\"train_mse:\",train_mse)\n",
    "print(\"test_mse:\",test_mse)\n",
    "\n"
   ]
  },
  {
   "cell_type": "code",
   "execution_count": 168,
   "id": "38fdd8f5",
   "metadata": {
    "tags": []
   },
   "outputs": [],
   "source": [
    "from sklearn.linear_model import RidgeCV,LassoCV"
   ]
  },
  {
   "cell_type": "code",
   "execution_count": 170,
   "id": "dfeda039",
   "metadata": {
    "tags": []
   },
   "outputs": [
    {
     "name": "stderr",
     "output_type": "stream",
     "text": [
      "/home/rick/.local/lib/python3.10/site-packages/sklearn/linear_model/_coordinate_descent.py:1561: DataConversionWarning: A column-vector y was passed when a 1d array was expected. Please change the shape of y to (n_samples, ), for example using ravel().\n",
      "  y = column_or_1d(y, warn=True)\n",
      "/home/rick/.local/lib/python3.10/site-packages/sklearn/linear_model/_coordinate_descent.py:620: ConvergenceWarning: Objective did not converge. You might want to increase the number of iterations. Duality gap: 4.484155338655, tolerance: 1.51778846743295\n",
      "  model = cd_fast.enet_coordinate_descent_gram(\n",
      "/home/rick/.local/lib/python3.10/site-packages/sklearn/linear_model/_coordinate_descent.py:620: ConvergenceWarning: Objective did not converge. You might want to increase the number of iterations. Duality gap: 16.902926224438488, tolerance: 1.51778846743295\n",
      "  model = cd_fast.enet_coordinate_descent_gram(\n",
      "/home/rick/.local/lib/python3.10/site-packages/sklearn/linear_model/_coordinate_descent.py:620: ConvergenceWarning: Objective did not converge. You might want to increase the number of iterations. Duality gap: 82.92668331517052, tolerance: 1.51778846743295\n",
      "  model = cd_fast.enet_coordinate_descent_gram(\n",
      "/home/rick/.local/lib/python3.10/site-packages/sklearn/linear_model/_coordinate_descent.py:620: ConvergenceWarning: Objective did not converge. You might want to increase the number of iterations. Duality gap: 1194.9983866762916, tolerance: 1.51778846743295\n",
      "  model = cd_fast.enet_coordinate_descent_gram(\n",
      "/home/rick/.local/lib/python3.10/site-packages/sklearn/linear_model/_coordinate_descent.py:620: ConvergenceWarning: Objective did not converge. You might want to increase the number of iterations. Duality gap: 2.202214945803007, tolerance: 1.8127332720306522\n",
      "  model = cd_fast.enet_coordinate_descent_gram(\n",
      "/home/rick/.local/lib/python3.10/site-packages/sklearn/linear_model/_coordinate_descent.py:620: ConvergenceWarning: Objective did not converge. You might want to increase the number of iterations. Duality gap: 4.0960177072511215, tolerance: 1.8127332720306522\n",
      "  model = cd_fast.enet_coordinate_descent_gram(\n",
      "/home/rick/.local/lib/python3.10/site-packages/sklearn/linear_model/_coordinate_descent.py:620: ConvergenceWarning: Objective did not converge. You might want to increase the number of iterations. Duality gap: 97.69040759387917, tolerance: 1.8127332720306522\n",
      "  model = cd_fast.enet_coordinate_descent_gram(\n",
      "/home/rick/.local/lib/python3.10/site-packages/sklearn/linear_model/_coordinate_descent.py:620: ConvergenceWarning: Objective did not converge. You might want to increase the number of iterations. Duality gap: 63.440901403929274, tolerance: 1.8127332720306522\n",
      "  model = cd_fast.enet_coordinate_descent_gram(\n",
      "/home/rick/.local/lib/python3.10/site-packages/sklearn/linear_model/_coordinate_descent.py:620: ConvergenceWarning: Objective did not converge. You might want to increase the number of iterations. Duality gap: 33.57440590090755, tolerance: 1.8127332720306522\n",
      "  model = cd_fast.enet_coordinate_descent_gram(\n",
      "/home/rick/.local/lib/python3.10/site-packages/sklearn/linear_model/_coordinate_descent.py:620: ConvergenceWarning: Objective did not converge. You might want to increase the number of iterations. Duality gap: 99.21080072297536, tolerance: 1.8127332720306522\n",
      "  model = cd_fast.enet_coordinate_descent_gram(\n",
      "/home/rick/.local/lib/python3.10/site-packages/sklearn/linear_model/_coordinate_descent.py:620: ConvergenceWarning: Objective did not converge. You might want to increase the number of iterations. Duality gap: 1221.0413712920613, tolerance: 1.8127332720306522\n",
      "  model = cd_fast.enet_coordinate_descent_gram(\n",
      "/home/rick/.local/lib/python3.10/site-packages/sklearn/linear_model/_coordinate_descent.py:620: ConvergenceWarning: Objective did not converge. You might want to increase the number of iterations. Duality gap: 8.677757107505158, tolerance: 1.048819072519084\n",
      "  model = cd_fast.enet_coordinate_descent_gram(\n",
      "/home/rick/.local/lib/python3.10/site-packages/sklearn/linear_model/_coordinate_descent.py:620: ConvergenceWarning: Objective did not converge. You might want to increase the number of iterations. Duality gap: 7.4291569296754005, tolerance: 1.048819072519084\n",
      "  model = cd_fast.enet_coordinate_descent_gram(\n",
      "/home/rick/.local/lib/python3.10/site-packages/sklearn/linear_model/_coordinate_descent.py:620: ConvergenceWarning: Objective did not converge. You might want to increase the number of iterations. Duality gap: 5.352889121045791, tolerance: 1.048819072519084\n",
      "  model = cd_fast.enet_coordinate_descent_gram(\n",
      "/home/rick/.local/lib/python3.10/site-packages/sklearn/linear_model/_coordinate_descent.py:620: ConvergenceWarning: Objective did not converge. You might want to increase the number of iterations. Duality gap: 11.436305592912731, tolerance: 1.048819072519084\n",
      "  model = cd_fast.enet_coordinate_descent_gram(\n",
      "/home/rick/.local/lib/python3.10/site-packages/sklearn/linear_model/_coordinate_descent.py:620: ConvergenceWarning: Objective did not converge. You might want to increase the number of iterations. Duality gap: 479.8648217525202, tolerance: 1.048819072519084\n",
      "  model = cd_fast.enet_coordinate_descent_gram(\n"
     ]
    },
    {
     "name": "stdout",
     "output_type": "stream",
     "text": [
      "0.8341268585050533\n",
      "4.489795923877551e-05\n"
     ]
    }
   ],
   "source": [
    "la = LassoCV(cv=3,max_iter=10000,alphas=alphas);\n",
    "la.fit(X,y);\n",
    "print(la.score(X,y))\n",
    "print(la.alpha_)"
   ]
  },
  {
   "cell_type": "code",
   "execution_count": 172,
   "id": "df050a9d-e673-4ee4-95a4-999ab9f81c78",
   "metadata": {
    "tags": []
   },
   "outputs": [
    {
     "name": "stdout",
     "output_type": "stream",
     "text": [
      "coef de 1:0.0 \n",
      "coef de cylinders:-666.7808928242408 \n",
      "coef de displacement:-0.0 \n",
      "coef de horsepower:-0.0 \n",
      "coef de weight:-0.0 \n",
      "coef de acceleration:-200.9994919034394 \n",
      "coef de model year:707.686779718207 \n",
      "coef de origin:0.0 \n",
      "coef de cylinders^2:-0.0 \n",
      "coef de cylinders displacement:-0.0 \n",
      "coef de cylinders horsepower:-0.0 \n",
      "coef de cylinders weight:-0.0 \n",
      "coef de cylinders acceleration:-0.0 \n",
      "coef de cylinders model year:-0.0 \n",
      "coef de cylinders origin:0.0 \n",
      "coef de displacement^2:0.0 \n",
      "coef de displacement horsepower:2431.2797681723264 \n",
      "coef de displacement weight:-120.4221361959913 \n",
      "coef de displacement acceleration:-0.0 \n",
      "coef de displacement model year:-0.0 \n",
      "coef de displacement origin:0.0 \n",
      "coef de horsepower^2:0.0 \n",
      "coef de horsepower weight:-438.44762089101954 \n",
      "coef de horsepower acceleration:-0.0 \n",
      "coef de horsepower model year:-0.0 \n",
      "coef de horsepower origin:0.0 \n",
      "coef de weight^2:-117.71954942470022 \n",
      "coef de weight acceleration:-798.7244162123411 \n",
      "coef de weight model year:345.0239530456759 \n",
      "coef de weight origin:0.0 \n",
      "coef de acceleration^2:0.0 \n",
      "coef de acceleration model year:0.0 \n",
      "coef de acceleration origin:0.0 \n",
      "coef de model year^2:-0.0 \n",
      "coef de model year origin:0.0 \n",
      "coef de origin^2:0.0 \n"
     ]
    }
   ],
   "source": [
    "for i in range(len(columns_poly)):\n",
    "    print(f\"coef de {list(columns_poly)[i]}:{la.coef_[i]} \")"
   ]
  },
  {
   "cell_type": "code",
   "execution_count": 173,
   "id": "c5adcf2e",
   "metadata": {
    "tags": []
   },
   "outputs": [
    {
     "name": "stdout",
     "output_type": "stream",
     "text": [
      "0.835042009312646\n",
      "1.4285714371428572e-05\n"
     ]
    }
   ],
   "source": [
    "ri = RidgeCV(cv=3,alphas=alphas);\n",
    "ri.fit(X,y);\n",
    "print(ri.score(X,y))\n",
    "print(ri.alpha_)"
   ]
  },
  {
   "cell_type": "code",
   "execution_count": 174,
   "id": "54d98cc1-ae05-4c01-adf2-9e0948d13c36",
   "metadata": {
    "tags": []
   },
   "outputs": [
    {
     "name": "stderr",
     "output_type": "stream",
     "text": [
      "/home/rick/.local/lib/python3.10/site-packages/sklearn/linear_model/_coordinate_descent.py:1561: DataConversionWarning: A column-vector y was passed when a 1d array was expected. Please change the shape of y to (n_samples, ), for example using ravel().\n",
      "  y = column_or_1d(y, warn=True)\n",
      "[Parallel(n_jobs=1)]: Using backend SequentialBackend with 1 concurrent workers.\n",
      ".............................................................................................................................................................................................../home/rick/.local/lib/python3.10/site-packages/sklearn/linear_model/_coordinate_descent.py:620: ConvergenceWarning: Objective did not converge. You might want to increase the number of iterations. Duality gap: 1.9069877886549875, tolerance: 1.8127332720306522\n",
      "  model = cd_fast.enet_coordinate_descent_gram(\n",
      "./home/rick/.local/lib/python3.10/site-packages/sklearn/linear_model/_coordinate_descent.py:620: ConvergenceWarning: Objective did not converge. You might want to increase the number of iterations. Duality gap: 3.414154883124411, tolerance: 1.8127332720306522\n",
      "  model = cd_fast.enet_coordinate_descent_gram(\n",
      "./home/rick/.local/lib/python3.10/site-packages/sklearn/linear_model/_coordinate_descent.py:620: ConvergenceWarning: Objective did not converge. You might want to increase the number of iterations. Duality gap: 48.23859551158694, tolerance: 1.8127332720306522\n",
      "  model = cd_fast.enet_coordinate_descent_gram(\n",
      "./home/rick/.local/lib/python3.10/site-packages/sklearn/linear_model/_coordinate_descent.py:620: ConvergenceWarning: Objective did not converge. You might want to increase the number of iterations. Duality gap: 77.71043011017036, tolerance: 1.8127332720306522\n",
      "  model = cd_fast.enet_coordinate_descent_gram(\n",
      "....................................................................................................../home/rick/.local/lib/python3.10/site-packages/sklearn/linear_model/_coordinate_descent.py:620: ConvergenceWarning: Objective did not converge. You might want to increase the number of iterations. Duality gap: 9.043200171175386, tolerance: 1.048819072519084\n",
      "  model = cd_fast.enet_coordinate_descent_gram(\n",
      "./home/rick/.local/lib/python3.10/site-packages/sklearn/linear_model/_coordinate_descent.py:620: ConvergenceWarning: Objective did not converge. You might want to increase the number of iterations. Duality gap: 8.483837370532228, tolerance: 1.048819072519084\n",
      "  model = cd_fast.enet_coordinate_descent_gram(\n",
      "./home/rick/.local/lib/python3.10/site-packages/sklearn/linear_model/_coordinate_descent.py:620: ConvergenceWarning: Objective did not converge. You might want to increase the number of iterations. Duality gap: 7.850170121128031, tolerance: 1.048819072519084\n",
      "  model = cd_fast.enet_coordinate_descent_gram(\n",
      "./home/rick/.local/lib/python3.10/site-packages/sklearn/linear_model/_coordinate_descent.py:620: ConvergenceWarning: Objective did not converge. You might want to increase the number of iterations. Duality gap: 7.145094063574788, tolerance: 1.048819072519084\n",
      "  model = cd_fast.enet_coordinate_descent_gram(\n",
      ".[Parallel(n_jobs=1)]: Done   3 out of   3 | elapsed:    0.4s finished\n"
     ]
    },
    {
     "name": "stdout",
     "output_type": "stream",
     "text": [
      "0.8342596650934004\n",
      "4.393527358051748e-05\n"
     ]
    }
   ],
   "source": [
    "la = LassoCV(cv=3,max_iter=10000,verbose=True,selection=\"cyclic\",eps=0.0001);\n",
    "la.fit(X,y);\n",
    "print(la.score(X,y))\n",
    "print(la.alpha_)"
   ]
  },
  {
   "cell_type": "code",
   "execution_count": 175,
   "id": "6095b93b-f9a7-4649-a63b-38fd2b661543",
   "metadata": {},
   "outputs": [],
   "source": [
    "from sklearn.feature_selection import SequentialFeatureSelector"
   ]
  },
  {
   "cell_type": "code",
   "execution_count": null,
   "id": "aa572686-6aed-48d1-8525-c7f6235a23d6",
   "metadata": {
    "tags": []
   },
   "outputs": [
    {
     "name": "stdout",
     "output_type": "stream",
     "text": [
      "train_r2: 0.8451137397795211\n",
      "test_r2: 0.8115561186850297\n",
      "train_mse: 9.44226672563677\n",
      "test_mse: 11.369103586627704\n",
      "n_features: 18\n",
      "['1' 'cylinders horsepower' 'cylinders acceleration'\n",
      " 'cylinders model year' 'displacement horsepower' 'displacement origin'\n",
      " 'horsepower^2' 'horsepower weight' 'horsepower acceleration'\n",
      " 'weight acceleration' 'weight model year' 'weight origin'\n",
      " 'acceleration^2' 'acceleration model year' 'acceleration origin'\n",
      " 'model year^2' 'model year origin' 'origin^2']\n"
     ]
    }
   ],
   "source": [
    "lr = LinearRegression()\n",
    "sfs = SequentialFeatureSelector(lr,n_features_to_select=\"auto\",direction=\"forward\",cv=None,n_jobs=3)\n",
    "\n",
    "sfs.fit(X_train,y_train)\n",
    "X_train_sfs = sfs.transform(X_train)\n",
    "X_test_sfs = sfs.transform(X_test)\n",
    "lr.fit(X_train_sfs,y_train)\n",
    "\n",
    "y_test_pred = lr.predict(X_test_sfs)\n",
    "y_train_pred = lr.predict(X_train_sfs)\n",
    "\n",
    "train_r2 = (r2_score(y_train, y_train_pred))\n",
    "test_r2 =(r2_score(y_test, y_test_pred))\n",
    "\n",
    "train_mse=(mean_squared_error(y_train, y_train_pred))\n",
    "test_mse= (mean_squared_error(y_test, y_test_pred))\n",
    "\n",
    "print(\"train_r2:\",train_r2)\n",
    "print(\"test_r2:\",test_r2)\n",
    "print(\"train_mse:\",train_mse)\n",
    "print(\"test_mse:\",test_mse)\n",
    "print(\"n_features:\",sfs.n_features_to_select_)\n",
    "print(sfs.get_feature_names_out(columns_poly))"
   ]
  },
  {
   "cell_type": "code",
   "execution_count": 213,
   "id": "bd9ac1f5-af75-42aa-afe5-9ab04a5c6a93",
   "metadata": {
    "tags": []
   },
   "outputs": [
    {
     "name": "stdout",
     "output_type": "stream",
     "text": [
      "train_r2: 0.8180260411188065\n",
      "test_r2: 0.8652646844748564\n",
      "train_mse: 11.093602843986176\n",
      "test_mse: 8.12878480475575\n",
      "n_features: 5\n",
      "['cylinders' 'horsepower' 'cylinders displacement'\n",
      " 'displacement acceleration' 'weight model year']\n"
     ]
    }
   ],
   "source": [
    "lr = LinearRegression()\n",
    "sfs = SequentialFeatureSelector(lr,n_features_to_select=5,direction=\"backward\",cv=3,n_jobs=3)\n",
    "\n",
    "sfs.fit(X_train,y_train)\n",
    "X_train_sfs = sfs.transform(X_train)\n",
    "X_test_sfs = sfs.transform(X_test)\n",
    "lr.fit(X_train_sfs,y_train)\n",
    "\n",
    "y_test_pred = lr.predict(X_test_sfs)\n",
    "y_train_pred = lr.predict(X_train_sfs)\n",
    "\n",
    "train_r2 = (r2_score(y_train, y_train_pred))\n",
    "test_r2 =(r2_score(y_test, y_test_pred))\n",
    "\n",
    "train_mse=(mean_squared_error(y_train, y_train_pred))\n",
    "test_mse= (mean_squared_error(y_test, y_test_pred))\n",
    "\n",
    "print(\"train_r2:\",train_r2)\n",
    "print(\"test_r2:\",test_r2)\n",
    "print(\"train_mse:\",train_mse)\n",
    "print(\"test_mse:\",test_mse)\n",
    "print(\"n_features:\",sfs.n_features_to_select_)\n",
    "print(sfs.get_feature_names_out(columns_poly))"
   ]
  },
  {
   "cell_type": "code",
   "execution_count": 194,
   "id": "15968e5b-a643-428e-a170-d3da4c5a3e82",
   "metadata": {
    "tags": []
   },
   "outputs": [
    {
     "data": {
      "text/plain": [
       "262"
      ]
     },
     "execution_count": 194,
     "metadata": {},
     "output_type": "execute_result"
    }
   ],
   "source": [
    "len(sfs.transform(X_train))"
   ]
  },
  {
   "cell_type": "code",
   "execution_count": 196,
   "id": "76c9dee6-2cfc-4660-a382-1e00bfc09f4e",
   "metadata": {
    "tags": []
   },
   "outputs": [
    {
     "data": {
      "text/plain": [
       "262"
      ]
     },
     "execution_count": 196,
     "metadata": {},
     "output_type": "execute_result"
    }
   ],
   "source": [
    "len(X_train)"
   ]
  },
  {
   "cell_type": "code",
   "execution_count": null,
   "id": "01a9c7d0-d091-4059-b53a-168a1be32f79",
   "metadata": {},
   "outputs": [],
   "source": []
  }
 ],
 "metadata": {
  "kernelspec": {
   "display_name": "Python 3 (ipykernel)",
   "language": "python",
   "name": "python3"
  },
  "language_info": {
   "codemirror_mode": {
    "name": "ipython",
    "version": 3
   },
   "file_extension": ".py",
   "mimetype": "text/x-python",
   "name": "python",
   "nbconvert_exporter": "python",
   "pygments_lexer": "ipython3",
   "version": "3.10.9"
  }
 },
 "nbformat": 4,
 "nbformat_minor": 5
}
